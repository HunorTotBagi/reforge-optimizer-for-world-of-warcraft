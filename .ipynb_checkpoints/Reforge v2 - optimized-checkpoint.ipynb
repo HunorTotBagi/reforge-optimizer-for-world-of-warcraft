{
 "cells": [
  {
   "cell_type": "code",
   "execution_count": 1,
   "id": "371d43b5",
   "metadata": {},
   "outputs": [],
   "source": [
    "class Item:\n",
    "    def __init__(self, hit=0, exp=0, crit=0, haste=0, mastery=0):\n",
    "        self.stats = {\n",
    "            \"hit\": hit,\n",
    "            \"exp\": exp,\n",
    "            \"crit\": crit,\n",
    "            \"haste\": haste,\n",
    "            \"mastery\": mastery\n",
    "        }\n",
    "    \n",
    "    def print_stats(self):\n",
    "        for stat, value in self.stats.items():\n",
    "            print(f\"{stat.capitalize()}: {value}\")\n",
    "        \n",
    "    def reforge_from(self, reforge_from, reforge_to):\n",
    "        portion = int(self.stats[reforge_from] * 0.4)\n",
    "        self.stats[reforge_from] -= portion\n",
    "        self.stats[reforge_to] += portion\n",
    "        #return self"
   ]
  },
  {
   "cell_type": "code",
   "execution_count": 17,
   "id": "ee07a8da",
   "metadata": {},
   "outputs": [],
   "source": [
    "list_of_item = []"
   ]
  },
  {
   "cell_type": "code",
   "execution_count": 24,
   "id": "60353004",
   "metadata": {},
   "outputs": [],
   "source": [
    "head = Item(crit=1725, haste=1652)\n",
    "list_of_item.append(head)\n",
    "\n",
    "neck = Item(crit=716, haste=841)\n",
    "list_of_item.append(neck)\n",
    "\n",
    "shoulder = Item(haste=1185, mastery=1185)\n",
    "list_of_item.append(shoulder)\n",
    "\n",
    "back = Item(crit=1070, haste=1070, mastery=1070)\n",
    "list_of_item.append(back)\n",
    "\n",
    "chest = Item(crit=1725, haste=1652)\n",
    "wrist = Item(exp=1100, crit=864)\n",
    "weapon = Item(hit=1185, haste=1795)"
   ]
  },
  {
   "cell_type": "code",
   "execution_count": 25,
   "id": "6e240e4f",
   "metadata": {},
   "outputs": [
    {
     "data": {
      "text/plain": [
       "[<__main__.Item at 0x257de5de520>,\n",
       " <__main__.Item at 0x257de5de490>,\n",
       " <__main__.Item at 0x257de5de070>,\n",
       " <__main__.Item at 0x257de5de040>,\n",
       " <__main__.Item at 0x257de707af0>,\n",
       " <__main__.Item at 0x257de707490>,\n",
       " <__main__.Item at 0x257de707730>,\n",
       " <__main__.Item at 0x257de7078b0>]"
      ]
     },
     "execution_count": 25,
     "metadata": {},
     "output_type": "execute_result"
    }
   ],
   "source": [
    "list_of_item"
   ]
  },
  {
   "cell_type": "code",
   "execution_count": 26,
   "id": "055c02fd",
   "metadata": {},
   "outputs": [
    {
     "name": "stdout",
     "output_type": "stream",
     "text": [
      "Hit: 1185\n",
      "Exp: 0\n",
      "Crit: 0\n",
      "Haste: 1795\n",
      "Mastery: 0\n",
      "------------\n"
     ]
    }
   ],
   "source": [
    "weapon.print_stats()\n",
    "print(\"------------\")\n",
    "weapon.reforge_from(\"hit\", \"crit\")"
   ]
  },
  {
   "cell_type": "code",
   "execution_count": 27,
   "id": "99a326f8",
   "metadata": {},
   "outputs": [
    {
     "data": {
      "text/plain": [
       "1185"
      ]
     },
     "execution_count": 27,
     "metadata": {},
     "output_type": "execute_result"
    }
   ],
   "source": [
    "711+474"
   ]
  },
  {
   "cell_type": "code",
   "execution_count": 28,
   "id": "91bc5c39",
   "metadata": {},
   "outputs": [
    {
     "name": "stdout",
     "output_type": "stream",
     "text": [
      "Hit: 0\n",
      "Exp: 1100\n",
      "Crit: 864\n",
      "Haste: 0\n",
      "Mastery: 0\n"
     ]
    }
   ],
   "source": [
    "wrist.print_stats()"
   ]
  },
  {
   "cell_type": "code",
   "execution_count": 29,
   "id": "9765fd7a",
   "metadata": {},
   "outputs": [],
   "source": [
    "new_list = []\n",
    "new_list.append(weapon.reforge_from(\"hit\", \"crit\"))"
   ]
  },
  {
   "cell_type": "code",
   "execution_count": 30,
   "id": "ca6b1381",
   "metadata": {},
   "outputs": [
    {
     "data": {
      "text/plain": [
       "[None]"
      ]
     },
     "execution_count": 30,
     "metadata": {},
     "output_type": "execute_result"
    }
   ],
   "source": [
    "new_list"
   ]
  },
  {
   "cell_type": "code",
   "execution_count": 32,
   "id": "889fed31",
   "metadata": {},
   "outputs": [
    {
     "name": "stdout",
     "output_type": "stream",
     "text": [
      "Hit: 427\n",
      "Exp: 0\n",
      "Crit: 758\n",
      "Haste: 1795\n",
      "Mastery: 0\n"
     ]
    }
   ],
   "source": [
    "weapon.print_stats()"
   ]
  },
  {
   "cell_type": "code",
   "execution_count": 33,
   "id": "e14881db",
   "metadata": {},
   "outputs": [],
   "source": [
    "neck.reforge_from(\"crit\", \"haste\")"
   ]
  },
  {
   "cell_type": "code",
   "execution_count": 34,
   "id": "cda2d372",
   "metadata": {},
   "outputs": [
    {
     "name": "stdout",
     "output_type": "stream",
     "text": [
      "Hit: 0\n",
      "Exp: 0\n",
      "Crit: 430\n",
      "Haste: 1127\n",
      "Mastery: 0\n"
     ]
    }
   ],
   "source": [
    "neck.print_stats()"
   ]
  },
  {
   "cell_type": "markdown",
   "id": "3c4e9a99",
   "metadata": {},
   "source": [
    "# Final summ of stats"
   ]
  },
  {
   "cell_type": "code",
   "execution_count": null,
   "id": "b3d04c41",
   "metadata": {},
   "outputs": [],
   "source": [
    "total_stats = Item(hit=0, exp=0, crit=0, haste=0, mastery=0)\n",
    "for lol in list_of_item:\n",
    "    total_stats.stats['hit'] += lol.stats['hit']\n",
    "    total_stats.stats['exp'] += lol.stats['exp']\n",
    "    total_stats.stats['crit'] += lol.stats['crit']\n",
    "    total_stats.stats['haste'] += lol.stats['haste']\n",
    "    total_stats.stats['mastery'] += lol.stats['mastery']\n",
    "\n",
    "total_stats.print_stats()"
   ]
  },
  {
   "cell_type": "code",
   "execution_count": null,
   "id": "7326a585",
   "metadata": {},
   "outputs": [],
   "source": [
    "all_stats = ['hit', 'exp', 'crit', 'haste', 'mastery']"
   ]
  },
  {
   "cell_type": "code",
   "execution_count": null,
   "id": "7811e3d0",
   "metadata": {},
   "outputs": [],
   "source": [
    "all_combinations = []\n",
    "for i in range(len(stats_name)):\n",
    "    \n",
    "    \n",
    "    for j in range(len(stats_name)):\n",
    "        new = []\n",
    "        new.append(stats_name[i])\n",
    "        if i != j:\n",
    "            \n",
    "            new.append(stats_name[j])\n",
    "    all_combinations.append(new)\n",
    "    "
   ]
  },
  {
   "cell_type": "code",
   "execution_count": null,
   "id": "9638baa9",
   "metadata": {},
   "outputs": [],
   "source": [
    "all_combinations"
   ]
  },
  {
   "cell_type": "code",
   "execution_count": null,
   "id": "0ebb4e0d",
   "metadata": {},
   "outputs": [],
   "source": [
    "def all_posibilities(all_combinations):\n",
    "    all_combinations = []\n",
    "    n = len(stats_name)\n",
    "\n",
    "    for i in range(n):\n",
    "        for j in range(n):\n",
    "            if i != j:\n",
    "                all_combinations.append([stats_name[i], stats_name[j]])\n",
    "    return all_combinations"
   ]
  },
  {
   "cell_type": "code",
   "execution_count": null,
   "id": "5ae0bed8",
   "metadata": {},
   "outputs": [],
   "source": [
    "hehe = all_posibilities(all_combinations)"
   ]
  },
  {
   "cell_type": "code",
   "execution_count": null,
   "id": "c683e32e",
   "metadata": {},
   "outputs": [],
   "source": [
    "len(hehe)"
   ]
  },
  {
   "cell_type": "code",
   "execution_count": null,
   "id": "f00e826c",
   "metadata": {},
   "outputs": [],
   "source": [
    "hehe[0]"
   ]
  },
  {
   "cell_type": "code",
   "execution_count": null,
   "id": "1fd2d241",
   "metadata": {},
   "outputs": [],
   "source": [
    "weapon.reforge_from(hehe[0][0], hehe[0][1])"
   ]
  },
  {
   "cell_type": "code",
   "execution_count": null,
   "id": "a2c2c1a4",
   "metadata": {},
   "outputs": [],
   "source": [
    "weapon.print_stats()"
   ]
  },
  {
   "cell_type": "code",
   "execution_count": null,
   "id": "602cc7c0",
   "metadata": {},
   "outputs": [],
   "source": [
    "n = len(hehe)\n",
    "for i in range(n):\n",
    "        if back.stats[hehe[i][0]] != 0:\n",
    "            print(\"Reforge \" + hehe[i][0] + \" to \" + hehe[i][1])\n",
    "            print(\" \")\n",
    "            back.reforge_from(hehe[i][0], hehe[i][1])\n",
    "            back.print_stats()\n",
    "            print(\"------------\")\n",
    "            print(\" \")\n",
    "        else:\n",
    "            print(\"REFORGE FROM 0 NOT VALID\")"
   ]
  },
  {
   "cell_type": "code",
   "execution_count": null,
   "id": "ace6f78b",
   "metadata": {},
   "outputs": [],
   "source": [
    "back.stats[hehe[0][0]]"
   ]
  },
  {
   "cell_type": "markdown",
   "id": "a2f7b091",
   "metadata": {},
   "source": [
    "### 11-Jun-2023 work"
   ]
  },
  {
   "cell_type": "code",
   "execution_count": null,
   "id": "9be6b7c0",
   "metadata": {},
   "outputs": [],
   "source": [
    "head"
   ]
  },
  {
   "cell_type": "code",
   "execution_count": null,
   "id": "17087afd",
   "metadata": {},
   "outputs": [],
   "source": [
    "all_stats"
   ]
  },
  {
   "cell_type": "code",
   "execution_count": null,
   "id": "c086a1b9",
   "metadata": {},
   "outputs": [],
   "source": [
    "head.print_stats()"
   ]
  },
  {
   "cell_type": "code",
   "execution_count": null,
   "id": "ce000002",
   "metadata": {},
   "outputs": [],
   "source": [
    "head.[all_stats[0]]"
   ]
  },
  {
   "cell_type": "code",
   "execution_count": null,
   "id": "287784e4",
   "metadata": {},
   "outputs": [],
   "source": [
    "head.stats[\"hit\"]"
   ]
  },
  {
   "cell_type": "code",
   "execution_count": null,
   "id": "f8be33c1",
   "metadata": {},
   "outputs": [],
   "source": [
    "\n",
    "    print(i)"
   ]
  },
  {
   "cell_type": "code",
   "execution_count": null,
   "id": "db21868f",
   "metadata": {},
   "outputs": [],
   "source": [
    "for i in all_stats:\n",
    "    if head.stats[i] != 0:\n",
    "        for j in all_stats:\n",
    "            if i != j:\n",
    "                head.reforge_from(\"hit\", j)\n",
    "                head.print_stats()\n",
    "                print('------------')\n",
    "    print(f'done for {i}')\n",
    "    print('')"
   ]
  },
  {
   "cell_type": "code",
   "execution_count": null,
   "id": "51dc5bb0",
   "metadata": {},
   "outputs": [],
   "source": []
  }
 ],
 "metadata": {
  "kernelspec": {
   "display_name": "Python 3 (ipykernel)",
   "language": "python",
   "name": "python3"
  },
  "language_info": {
   "codemirror_mode": {
    "name": "ipython",
    "version": 3
   },
   "file_extension": ".py",
   "mimetype": "text/x-python",
   "name": "python",
   "nbconvert_exporter": "python",
   "pygments_lexer": "ipython3",
   "version": "3.9.13"
  }
 },
 "nbformat": 4,
 "nbformat_minor": 5
}
