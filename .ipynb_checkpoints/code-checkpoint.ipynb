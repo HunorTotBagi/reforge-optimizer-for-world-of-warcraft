{
 "cells": [
  {
   "cell_type": "code",
   "execution_count": 167,
   "id": "371d43b5",
   "metadata": {},
   "outputs": [],
   "source": [
    "class Item:\n",
    "    list_of_item = []  # Class variable to store all instances of Item\n",
    "\n",
    "    def __init__(self, hit=0, exp=0, crit=0, haste=0, mastery=0):\n",
    "        # Initialize the item's stats dictionary with the provided values\n",
    "        self.stats = {\n",
    "            \"hit\": hit,\n",
    "            \"exp\": exp,\n",
    "            \"crit\": crit,\n",
    "            \"haste\": haste,\n",
    "            \"mastery\": mastery\n",
    "        }\n",
    "        \n",
    "        # Initialize reforge related attributes\n",
    "        self.reforge_from = None\n",
    "        self.reforge_to = None\n",
    "        self.amount_to_reforge = 0\n",
    "        self.reforged = False # Track if the item has been reforged\n",
    "        self.restored = False # Track if the item has been restored\n",
    "        \n",
    "        # Add the current instance to the class variable\n",
    "        Item.list_of_item.append(self)\n",
    "\n",
    "    def reforge(self, reforge_from, reforge_to):\n",
    "        if self.reforged:\n",
    "            # Check if the item has already been reforged\n",
    "            print(\"This item has already been reforged.\")\n",
    "        else:\n",
    "            if self.stats[reforge_to] > 0:\n",
    "                # Check if the 'reforge_to' stat already has a value greater than zero\n",
    "                print(f\"You can't reforge to {reforge_to}\")\n",
    "            else:\n",
    "                # Perform the reforge\n",
    "                self.amount_to_reforge = int(self.stats[reforge_from] * 0.4)\n",
    "                self.stats[reforge_from] -= self.amount_to_reforge\n",
    "                self.stats[reforge_to] += self.amount_to_reforge\n",
    "                self.reforge_from = reforge_from\n",
    "                self.reforge_to = reforge_to\n",
    "                self.reforged = True\n",
    "                self.restored = False\n",
    "\n",
    "    def restore(self):\n",
    "        if not self.restored:\n",
    "            # Restore the item to its original state\n",
    "            self.stats[self.reforge_from] += self.amount_to_reforge\n",
    "            self.stats[self.reforge_to] -= self.amount_to_reforge\n",
    "            self.restored = True\n",
    "            self.reforged = False"
   ]
  },
  {
   "cell_type": "code",
   "execution_count": 168,
   "id": "68c0715d",
   "metadata": {},
   "outputs": [],
   "source": [
    "import itertools"
   ]
  },
  {
   "cell_type": "markdown",
   "id": "ff515efd",
   "metadata": {},
   "source": [
    "### Methods reforge() and restore working properly."
   ]
  },
  {
   "cell_type": "code",
   "execution_count": 169,
   "id": "60353004",
   "metadata": {},
   "outputs": [],
   "source": [
    "head = Item(crit=1725, haste=1652)\n",
    "neck = Item(crit=716, haste=841)\n",
    "shoulder = Item(haste=1185, mastery=1185)"
   ]
  },
  {
   "cell_type": "code",
   "execution_count": 170,
   "id": "055c02fd",
   "metadata": {},
   "outputs": [
    {
     "name": "stdout",
     "output_type": "stream",
     "text": [
      "{'hit': 0, 'exp': 0, 'crit': 1725, 'haste': 1652, 'mastery': 0}\n"
     ]
    }
   ],
   "source": [
    "print(head.stats)"
   ]
  },
  {
   "cell_type": "code",
   "execution_count": 171,
   "id": "c081ce6b",
   "metadata": {},
   "outputs": [
    {
     "data": {
      "text/plain": [
       "{'hit': 0, 'exp': 0, 'crit': 1035, 'haste': 1652, 'mastery': 690}"
      ]
     },
     "execution_count": 171,
     "metadata": {},
     "output_type": "execute_result"
    }
   ],
   "source": [
    "head.reforge(\"crit\", \"mastery\")\n",
    "head.stats"
   ]
  },
  {
   "cell_type": "code",
   "execution_count": 172,
   "id": "cff674e9",
   "metadata": {},
   "outputs": [
    {
     "name": "stdout",
     "output_type": "stream",
     "text": [
      "This item has already been reforged.\n"
     ]
    }
   ],
   "source": [
    "head.reforge(\"crit\", \"mastery\")"
   ]
  },
  {
   "cell_type": "code",
   "execution_count": 173,
   "id": "a5484582",
   "metadata": {},
   "outputs": [
    {
     "data": {
      "text/plain": [
       "{'hit': 0, 'exp': 0, 'crit': 1035, 'haste': 1652, 'mastery': 690}"
      ]
     },
     "execution_count": 173,
     "metadata": {},
     "output_type": "execute_result"
    }
   ],
   "source": [
    "head.stats"
   ]
  },
  {
   "cell_type": "code",
   "execution_count": 174,
   "id": "0c2b82e1",
   "metadata": {},
   "outputs": [
    {
     "data": {
      "text/plain": [
       "{'hit': 0, 'exp': 0, 'crit': 1725, 'haste': 1652, 'mastery': 0}"
      ]
     },
     "execution_count": 174,
     "metadata": {},
     "output_type": "execute_result"
    }
   ],
   "source": [
    "head.restore()\n",
    "head.stats"
   ]
  },
  {
   "cell_type": "code",
   "execution_count": 175,
   "id": "9019d7a2",
   "metadata": {},
   "outputs": [
    {
     "data": {
      "text/plain": [
       "{'hit': 660, 'exp': 0, 'crit': 1725, 'haste': 992, 'mastery': 0}"
      ]
     },
     "execution_count": 175,
     "metadata": {},
     "output_type": "execute_result"
    }
   ],
   "source": [
    "head.reforge(\"haste\", \"hit\")\n",
    "head.stats"
   ]
  },
  {
   "cell_type": "code",
   "execution_count": 176,
   "id": "41dc5a74",
   "metadata": {},
   "outputs": [
    {
     "name": "stdout",
     "output_type": "stream",
     "text": [
      "This item has already been reforged.\n"
     ]
    },
    {
     "data": {
      "text/plain": [
       "{'hit': 660, 'exp': 0, 'crit': 1725, 'haste': 992, 'mastery': 0}"
      ]
     },
     "execution_count": 176,
     "metadata": {},
     "output_type": "execute_result"
    }
   ],
   "source": [
    "head.reforge(\"haste\", \"hit\")\n",
    "head.stats"
   ]
  },
  {
   "cell_type": "code",
   "execution_count": 177,
   "id": "bbcdfc5a",
   "metadata": {},
   "outputs": [
    {
     "name": "stdout",
     "output_type": "stream",
     "text": [
      "This item has already been reforged.\n"
     ]
    },
    {
     "data": {
      "text/plain": [
       "{'hit': 660, 'exp': 0, 'crit': 1725, 'haste': 992, 'mastery': 0}"
      ]
     },
     "execution_count": 177,
     "metadata": {},
     "output_type": "execute_result"
    }
   ],
   "source": [
    "head.reforge(\"exp\", \"mastery\")\n",
    "head.stats"
   ]
  },
  {
   "cell_type": "code",
   "execution_count": 178,
   "id": "d037edba",
   "metadata": {},
   "outputs": [
    {
     "data": {
      "text/plain": [
       "{'hit': 0, 'exp': 0, 'crit': 1725, 'haste': 1652, 'mastery': 0}"
      ]
     },
     "execution_count": 178,
     "metadata": {},
     "output_type": "execute_result"
    }
   ],
   "source": [
    "head.restore()\n",
    "head.stats"
   ]
  },
  {
   "cell_type": "code",
   "execution_count": 179,
   "id": "ff0bc644",
   "metadata": {},
   "outputs": [
    {
     "data": {
      "text/plain": [
       "{'hit': 0, 'exp': 0, 'crit': 1725, 'haste': 1652, 'mastery': 0}"
      ]
     },
     "execution_count": 179,
     "metadata": {},
     "output_type": "execute_result"
    }
   ],
   "source": [
    "head.stats"
   ]
  },
  {
   "cell_type": "markdown",
   "id": "9854c308",
   "metadata": {},
   "source": [
    "### List of available combinations"
   ]
  },
  {
   "cell_type": "code",
   "execution_count": 180,
   "id": "f0030d88",
   "metadata": {},
   "outputs": [],
   "source": [
    "def available_reforges(item):\n",
    "    # List of all possible stats for reforging\n",
    "    all_stats = [\"hit\", \"exp\", \"crit\", \"haste\", \"mastery\"]\n",
    "\n",
    "    # Initialize two empty lists to separate stats with values greater than zero and equal to zero\n",
    "    greater_than_zero = []\n",
    "    equal_to_zero = []\n",
    "\n",
    "    # Iterate through each stat in all_stats\n",
    "    for stat in all_stats:\n",
    "        # Check if the item's stat value for the current stat is greater than zero\n",
    "        if item.stats[stat] > 0:\n",
    "            # If the value is greater than zero, add the stat to the greater_than_zero list\n",
    "            greater_than_zero.append(stat)\n",
    "        else:\n",
    "            # If the value is zero or less, add the stat to the equal_to_zero list\n",
    "            equal_to_zero.append(stat)\n",
    "\n",
    "    # Return the two lists containing stats with values greater than zero and equal to zero\n",
    "    return greater_than_zero, equal_to_zero"
   ]
  },
  {
   "cell_type": "code",
   "execution_count": 181,
   "id": "e9d4dbe9",
   "metadata": {},
   "outputs": [
    {
     "data": {
      "text/plain": [
       "(['crit', 'haste'], ['hit', 'exp', 'mastery'])"
      ]
     },
     "execution_count": 181,
     "metadata": {},
     "output_type": "execute_result"
    }
   ],
   "source": [
    "available_reforges(head)"
   ]
  },
  {
   "cell_type": "code",
   "execution_count": 182,
   "id": "74a6bba4",
   "metadata": {},
   "outputs": [
    {
     "data": {
      "text/plain": [
       "(['haste', 'mastery'], ['hit', 'exp', 'crit'])"
      ]
     },
     "execution_count": 182,
     "metadata": {},
     "output_type": "execute_result"
    }
   ],
   "source": [
    "available_reforges(shoulder)"
   ]
  },
  {
   "cell_type": "code",
   "execution_count": 183,
   "id": "9480267e",
   "metadata": {},
   "outputs": [
    {
     "data": {
      "text/plain": [
       "{'hit': 0, 'exp': 0, 'crit': 1725, 'haste': 1652, 'mastery': 0}"
      ]
     },
     "execution_count": 183,
     "metadata": {},
     "output_type": "execute_result"
    }
   ],
   "source": [
    "head.stats"
   ]
  },
  {
   "cell_type": "code",
   "execution_count": 184,
   "id": "decd986d",
   "metadata": {},
   "outputs": [],
   "source": [
    "def generate_combinations(list1, list2):\n",
    "    return list(itertools.product(list1, list2))"
   ]
  },
  {
   "cell_type": "code",
   "execution_count": 185,
   "id": "e2210c49",
   "metadata": {},
   "outputs": [],
   "source": [
    "def generate_item(item):\n",
    "\n",
    "    one, two = available_reforges(item)\n",
    "    combinations = generate_combinations(one, two)\n",
    "\n",
    "    for i in range(len(combinations)):\n",
    "        print(' ')\n",
    "        print(f\"{combinations[i][0]} -> {combinations[i][1]}\")\n",
    "        print(' ')\n",
    "        print(item.stats)\n",
    "        item.reforge(combinations[i][0], combinations[i][1])\n",
    "        print(item.stats)\n",
    "        item.restore()\n",
    "        print(item.stats)\n",
    "        print('-------------------------------------------')"
   ]
  },
  {
   "cell_type": "code",
   "execution_count": 186,
   "id": "fca2806a",
   "metadata": {},
   "outputs": [
    {
     "name": "stdout",
     "output_type": "stream",
     "text": [
      " \n",
      "haste -> hit\n",
      " \n",
      "{'hit': 0, 'exp': 0, 'crit': 0, 'haste': 1185, 'mastery': 1185}\n",
      "{'hit': 474, 'exp': 0, 'crit': 0, 'haste': 711, 'mastery': 1185}\n",
      "{'hit': 0, 'exp': 0, 'crit': 0, 'haste': 1185, 'mastery': 1185}\n",
      "-------------------------------------------\n",
      " \n",
      "haste -> exp\n",
      " \n",
      "{'hit': 0, 'exp': 0, 'crit': 0, 'haste': 1185, 'mastery': 1185}\n",
      "{'hit': 0, 'exp': 474, 'crit': 0, 'haste': 711, 'mastery': 1185}\n",
      "{'hit': 0, 'exp': 0, 'crit': 0, 'haste': 1185, 'mastery': 1185}\n",
      "-------------------------------------------\n",
      " \n",
      "haste -> crit\n",
      " \n",
      "{'hit': 0, 'exp': 0, 'crit': 0, 'haste': 1185, 'mastery': 1185}\n",
      "{'hit': 0, 'exp': 0, 'crit': 474, 'haste': 711, 'mastery': 1185}\n",
      "{'hit': 0, 'exp': 0, 'crit': 0, 'haste': 1185, 'mastery': 1185}\n",
      "-------------------------------------------\n",
      " \n",
      "mastery -> hit\n",
      " \n",
      "{'hit': 0, 'exp': 0, 'crit': 0, 'haste': 1185, 'mastery': 1185}\n",
      "{'hit': 474, 'exp': 0, 'crit': 0, 'haste': 1185, 'mastery': 711}\n",
      "{'hit': 0, 'exp': 0, 'crit': 0, 'haste': 1185, 'mastery': 1185}\n",
      "-------------------------------------------\n",
      " \n",
      "mastery -> exp\n",
      " \n",
      "{'hit': 0, 'exp': 0, 'crit': 0, 'haste': 1185, 'mastery': 1185}\n",
      "{'hit': 0, 'exp': 474, 'crit': 0, 'haste': 1185, 'mastery': 711}\n",
      "{'hit': 0, 'exp': 0, 'crit': 0, 'haste': 1185, 'mastery': 1185}\n",
      "-------------------------------------------\n",
      " \n",
      "mastery -> crit\n",
      " \n",
      "{'hit': 0, 'exp': 0, 'crit': 0, 'haste': 1185, 'mastery': 1185}\n",
      "{'hit': 0, 'exp': 0, 'crit': 474, 'haste': 1185, 'mastery': 711}\n",
      "{'hit': 0, 'exp': 0, 'crit': 0, 'haste': 1185, 'mastery': 1185}\n",
      "-------------------------------------------\n"
     ]
    }
   ],
   "source": [
    "generate_item(shoulder)"
   ]
  },
  {
   "cell_type": "code",
   "execution_count": null,
   "id": "def31be2",
   "metadata": {},
   "outputs": [],
   "source": []
  },
  {
   "cell_type": "code",
   "execution_count": null,
   "id": "e26ae259",
   "metadata": {},
   "outputs": [],
   "source": []
  },
  {
   "cell_type": "code",
   "execution_count": null,
   "id": "74027a4f",
   "metadata": {},
   "outputs": [],
   "source": []
  },
  {
   "cell_type": "code",
   "execution_count": null,
   "id": "c534c7b5",
   "metadata": {},
   "outputs": [],
   "source": []
  }
 ],
 "metadata": {
  "kernelspec": {
   "display_name": "Python 3 (ipykernel)",
   "language": "python",
   "name": "python3"
  },
  "language_info": {
   "codemirror_mode": {
    "name": "ipython",
    "version": 3
   },
   "file_extension": ".py",
   "mimetype": "text/x-python",
   "name": "python",
   "nbconvert_exporter": "python",
   "pygments_lexer": "ipython3",
   "version": "3.9.13"
  }
 },
 "nbformat": 4,
 "nbformat_minor": 5
}
