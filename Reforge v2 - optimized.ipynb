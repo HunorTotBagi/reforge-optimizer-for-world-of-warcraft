{
 "cells": [
  {
   "cell_type": "code",
   "execution_count": 31,
   "id": "371d43b5",
   "metadata": {},
   "outputs": [],
   "source": [
    "class Item:    \n",
    "    def __init__(self, hit=0, exp=0, crit=0, haste=0, mastery=0):\n",
    "        self.stats = {\n",
    "            \"hit\": hit,\n",
    "            \"exp\": exp,\n",
    "            \"crit\": crit,\n",
    "            \"haste\": haste,\n",
    "            \"mastery\": mastery\n",
    "        }\n",
    "    \n",
    "    def print_stats(self):\n",
    "        for stat, value in self.stats.items():\n",
    "            print(f\"{stat.capitalize()}: {value}\")\n",
    "        \n",
    "    def reforge_from(self, reforge_from, reforge_to):\n",
    "        portion = int(self.stats[reforge_from] * 0.4)\n",
    "        self.stats[reforge_from] -= portion\n",
    "        self.stats[reforge_to] += portion\n",
    "        #return self"
   ]
  },
  {
   "cell_type": "code",
   "execution_count": 32,
   "id": "a0b8d5f8",
   "metadata": {},
   "outputs": [
    {
     "name": "stdout",
     "output_type": "stream",
     "text": [
      "Hit: 0\n",
      "Exp: 0\n",
      "Crit: 1725\n",
      "Haste: 1652\n",
      "Mastery: 0\n"
     ]
    }
   ],
   "source": [
    "head.print_stats()"
   ]
  },
  {
   "cell_type": "code",
   "execution_count": 2,
   "id": "ee07a8da",
   "metadata": {},
   "outputs": [],
   "source": [
    "list_of_item = []"
   ]
  },
  {
   "cell_type": "code",
   "execution_count": 3,
   "id": "60353004",
   "metadata": {},
   "outputs": [],
   "source": [
    "head = Item(crit=1725, haste=1652)\n",
    "list_of_item.append(head)\n",
    "\n",
    "neck = Item(crit=716, haste=841)\n",
    "list_of_item.append(neck)\n",
    "\n",
    "shoulders = Item(haste=1185, mastery=1185)\n",
    "list_of_item.append(shoulders)\n",
    "\n",
    "back = Item(crit=1070, haste=1070, mastery=1070)\n",
    "list_of_item.append(back)\n",
    "\n",
    "#chest = Item(crit=1725, haste=1652)\n",
    "#wrist = Item(exp=1100, crit=864)\n",
    "#weapon = Item(hit=1185, haste=1795)"
   ]
  },
  {
   "cell_type": "code",
   "execution_count": 5,
   "id": "055c02fd",
   "metadata": {},
   "outputs": [],
   "source": [
    "#weapon.print_stats()\n",
    "#print(\"------------\")\n",
    "#weapon.reforge_from(\"hit\", \"crit\")"
   ]
  },
  {
   "cell_type": "code",
   "execution_count": 6,
   "id": "99a326f8",
   "metadata": {},
   "outputs": [
    {
     "data": {
      "text/plain": [
       "1185"
      ]
     },
     "execution_count": 6,
     "metadata": {},
     "output_type": "execute_result"
    }
   ],
   "source": [
    "711+474"
   ]
  },
  {
   "cell_type": "code",
   "execution_count": 7,
   "id": "91bc5c39",
   "metadata": {},
   "outputs": [
    {
     "ename": "NameError",
     "evalue": "name 'wrist' is not defined",
     "output_type": "error",
     "traceback": [
      "\u001b[1;31m---------------------------------------------------------------------------\u001b[0m",
      "\u001b[1;31mNameError\u001b[0m                                 Traceback (most recent call last)",
      "\u001b[1;32m~\\AppData\\Local\\Temp\\ipykernel_8972\\1382582491.py\u001b[0m in \u001b[0;36m<module>\u001b[1;34m\u001b[0m\n\u001b[1;32m----> 1\u001b[1;33m \u001b[0mwrist\u001b[0m\u001b[1;33m.\u001b[0m\u001b[0mprint_stats\u001b[0m\u001b[1;33m(\u001b[0m\u001b[1;33m)\u001b[0m\u001b[1;33m\u001b[0m\u001b[1;33m\u001b[0m\u001b[0m\n\u001b[0m",
      "\u001b[1;31mNameError\u001b[0m: name 'wrist' is not defined"
     ]
    }
   ],
   "source": [
    "wrist.print_stats()"
   ]
  },
  {
   "cell_type": "code",
   "execution_count": 8,
   "id": "9765fd7a",
   "metadata": {},
   "outputs": [
    {
     "ename": "NameError",
     "evalue": "name 'weapon' is not defined",
     "output_type": "error",
     "traceback": [
      "\u001b[1;31m---------------------------------------------------------------------------\u001b[0m",
      "\u001b[1;31mNameError\u001b[0m                                 Traceback (most recent call last)",
      "\u001b[1;32m~\\AppData\\Local\\Temp\\ipykernel_8972\\2555514806.py\u001b[0m in \u001b[0;36m<module>\u001b[1;34m\u001b[0m\n\u001b[0;32m      1\u001b[0m \u001b[0mnew_list\u001b[0m \u001b[1;33m=\u001b[0m \u001b[1;33m[\u001b[0m\u001b[1;33m]\u001b[0m\u001b[1;33m\u001b[0m\u001b[1;33m\u001b[0m\u001b[0m\n\u001b[1;32m----> 2\u001b[1;33m \u001b[0mnew_list\u001b[0m\u001b[1;33m.\u001b[0m\u001b[0mappend\u001b[0m\u001b[1;33m(\u001b[0m\u001b[0mweapon\u001b[0m\u001b[1;33m.\u001b[0m\u001b[0mreforge_from\u001b[0m\u001b[1;33m(\u001b[0m\u001b[1;34m\"hit\"\u001b[0m\u001b[1;33m,\u001b[0m \u001b[1;34m\"crit\"\u001b[0m\u001b[1;33m)\u001b[0m\u001b[1;33m)\u001b[0m\u001b[1;33m\u001b[0m\u001b[1;33m\u001b[0m\u001b[0m\n\u001b[0m",
      "\u001b[1;31mNameError\u001b[0m: name 'weapon' is not defined"
     ]
    }
   ],
   "source": [
    "new_list = []\n",
    "new_list.append(weapon.reforge_from(\"hit\", \"crit\"))"
   ]
  },
  {
   "cell_type": "code",
   "execution_count": 9,
   "id": "ca6b1381",
   "metadata": {},
   "outputs": [
    {
     "data": {
      "text/plain": [
       "[]"
      ]
     },
     "execution_count": 9,
     "metadata": {},
     "output_type": "execute_result"
    }
   ],
   "source": [
    "new_list"
   ]
  },
  {
   "cell_type": "code",
   "execution_count": 10,
   "id": "ab8559a0",
   "metadata": {},
   "outputs": [
    {
     "ename": "IndexError",
     "evalue": "list index out of range",
     "output_type": "error",
     "traceback": [
      "\u001b[1;31m---------------------------------------------------------------------------\u001b[0m",
      "\u001b[1;31mIndexError\u001b[0m                                Traceback (most recent call last)",
      "\u001b[1;32m~\\AppData\\Local\\Temp\\ipykernel_8972\\2682903672.py\u001b[0m in \u001b[0;36m<module>\u001b[1;34m\u001b[0m\n\u001b[1;32m----> 1\u001b[1;33m \u001b[0mnew_list\u001b[0m\u001b[1;33m[\u001b[0m\u001b[1;36m0\u001b[0m\u001b[1;33m]\u001b[0m\u001b[1;33m.\u001b[0m\u001b[0mprint_stats\u001b[0m\u001b[1;33m(\u001b[0m\u001b[1;33m)\u001b[0m\u001b[1;33m\u001b[0m\u001b[1;33m\u001b[0m\u001b[0m\n\u001b[0m",
      "\u001b[1;31mIndexError\u001b[0m: list index out of range"
     ]
    }
   ],
   "source": [
    "new_list[0].print_stats()"
   ]
  },
  {
   "cell_type": "code",
   "execution_count": 11,
   "id": "889fed31",
   "metadata": {},
   "outputs": [
    {
     "ename": "NameError",
     "evalue": "name 'weapon' is not defined",
     "output_type": "error",
     "traceback": [
      "\u001b[1;31m---------------------------------------------------------------------------\u001b[0m",
      "\u001b[1;31mNameError\u001b[0m                                 Traceback (most recent call last)",
      "\u001b[1;32m~\\AppData\\Local\\Temp\\ipykernel_8972\\119426183.py\u001b[0m in \u001b[0;36m<module>\u001b[1;34m\u001b[0m\n\u001b[1;32m----> 1\u001b[1;33m \u001b[0mweapon\u001b[0m\u001b[1;33m.\u001b[0m\u001b[0mprint_stats\u001b[0m\u001b[1;33m(\u001b[0m\u001b[1;33m)\u001b[0m\u001b[1;33m\u001b[0m\u001b[1;33m\u001b[0m\u001b[0m\n\u001b[0m",
      "\u001b[1;31mNameError\u001b[0m: name 'weapon' is not defined"
     ]
    }
   ],
   "source": [
    "weapon.print_stats()"
   ]
  },
  {
   "cell_type": "code",
   "execution_count": 12,
   "id": "e14881db",
   "metadata": {},
   "outputs": [],
   "source": [
    "neck.reforge_from(\"crit\", \"haste\")"
   ]
  },
  {
   "cell_type": "code",
   "execution_count": 13,
   "id": "cda2d372",
   "metadata": {},
   "outputs": [
    {
     "name": "stdout",
     "output_type": "stream",
     "text": [
      "Hit: 0\n",
      "Exp: 0\n",
      "Crit: 430\n",
      "Haste: 1127\n",
      "Mastery: 0\n"
     ]
    }
   ],
   "source": [
    "neck.print_stats()"
   ]
  },
  {
   "cell_type": "markdown",
   "id": "3c4e9a99",
   "metadata": {},
   "source": [
    "# Final summ of stats"
   ]
  },
  {
   "cell_type": "code",
   "execution_count": 14,
   "id": "b3d04c41",
   "metadata": {},
   "outputs": [
    {
     "name": "stdout",
     "output_type": "stream",
     "text": [
      "Hit: 0\n",
      "Exp: 0\n",
      "Crit: 3225\n",
      "Haste: 5034\n",
      "Mastery: 2255\n"
     ]
    }
   ],
   "source": [
    "total_stats = Item(hit=0, exp=0, crit=0, haste=0, mastery=0)\n",
    "for lol in list_of_item:\n",
    "    total_stats.stats['hit'] += lol.stats['hit']\n",
    "    total_stats.stats['exp'] += lol.stats['exp']\n",
    "    total_stats.stats['crit'] += lol.stats['crit']\n",
    "    total_stats.stats['haste'] += lol.stats['haste']\n",
    "    total_stats.stats['mastery'] += lol.stats['mastery']\n",
    "\n",
    "total_stats.print_stats()"
   ]
  },
  {
   "cell_type": "code",
   "execution_count": 33,
   "id": "7326a585",
   "metadata": {},
   "outputs": [],
   "source": [
    "all_stats = ['hit', 'exp', 'crit', 'haste', 'mastery']"
   ]
  },
  {
   "cell_type": "code",
   "execution_count": 16,
   "id": "7811e3d0",
   "metadata": {},
   "outputs": [],
   "source": [
    "all_combinations = []\n",
    "for i in range(len(stats_name)):\n",
    "    \n",
    "    \n",
    "    for j in range(len(stats_name)):\n",
    "        new = []\n",
    "        new.append(stats_name[i])\n",
    "        if i != j:\n",
    "            \n",
    "            new.append(stats_name[j])\n",
    "    all_combinations.append(new)\n",
    "    "
   ]
  },
  {
   "cell_type": "code",
   "execution_count": 17,
   "id": "9638baa9",
   "metadata": {},
   "outputs": [
    {
     "data": {
      "text/plain": [
       "[['hit', 'mastery'],\n",
       " ['exp', 'mastery'],\n",
       " ['crit', 'mastery'],\n",
       " ['haste', 'mastery'],\n",
       " ['mastery']]"
      ]
     },
     "execution_count": 17,
     "metadata": {},
     "output_type": "execute_result"
    }
   ],
   "source": [
    "all_combinations"
   ]
  },
  {
   "cell_type": "code",
   "execution_count": 18,
   "id": "0ebb4e0d",
   "metadata": {},
   "outputs": [],
   "source": [
    "def all_posibilities(all_combinations):\n",
    "    all_combinations = []\n",
    "    n = len(stats_name)\n",
    "\n",
    "    for i in range(n):\n",
    "        for j in range(n):\n",
    "            if i != j:\n",
    "                all_combinations.append([stats_name[i], stats_name[j]])\n",
    "    return all_combinations"
   ]
  },
  {
   "cell_type": "code",
   "execution_count": 19,
   "id": "5ae0bed8",
   "metadata": {},
   "outputs": [],
   "source": [
    "hehe = all_posibilities(all_combinations)"
   ]
  },
  {
   "cell_type": "code",
   "execution_count": 20,
   "id": "c683e32e",
   "metadata": {},
   "outputs": [
    {
     "data": {
      "text/plain": [
       "20"
      ]
     },
     "execution_count": 20,
     "metadata": {},
     "output_type": "execute_result"
    }
   ],
   "source": [
    "len(hehe)"
   ]
  },
  {
   "cell_type": "code",
   "execution_count": 21,
   "id": "f00e826c",
   "metadata": {},
   "outputs": [
    {
     "data": {
      "text/plain": [
       "['hit', 'exp']"
      ]
     },
     "execution_count": 21,
     "metadata": {},
     "output_type": "execute_result"
    }
   ],
   "source": [
    "hehe[0]"
   ]
  },
  {
   "cell_type": "code",
   "execution_count": 22,
   "id": "1fd2d241",
   "metadata": {},
   "outputs": [
    {
     "ename": "NameError",
     "evalue": "name 'weapon' is not defined",
     "output_type": "error",
     "traceback": [
      "\u001b[1;31m---------------------------------------------------------------------------\u001b[0m",
      "\u001b[1;31mNameError\u001b[0m                                 Traceback (most recent call last)",
      "\u001b[1;32m~\\AppData\\Local\\Temp\\ipykernel_8972\\3860532221.py\u001b[0m in \u001b[0;36m<module>\u001b[1;34m\u001b[0m\n\u001b[1;32m----> 1\u001b[1;33m \u001b[0mweapon\u001b[0m\u001b[1;33m.\u001b[0m\u001b[0mreforge_from\u001b[0m\u001b[1;33m(\u001b[0m\u001b[0mhehe\u001b[0m\u001b[1;33m[\u001b[0m\u001b[1;36m0\u001b[0m\u001b[1;33m]\u001b[0m\u001b[1;33m[\u001b[0m\u001b[1;36m0\u001b[0m\u001b[1;33m]\u001b[0m\u001b[1;33m,\u001b[0m \u001b[0mhehe\u001b[0m\u001b[1;33m[\u001b[0m\u001b[1;36m0\u001b[0m\u001b[1;33m]\u001b[0m\u001b[1;33m[\u001b[0m\u001b[1;36m1\u001b[0m\u001b[1;33m]\u001b[0m\u001b[1;33m)\u001b[0m\u001b[1;33m\u001b[0m\u001b[1;33m\u001b[0m\u001b[0m\n\u001b[0m",
      "\u001b[1;31mNameError\u001b[0m: name 'weapon' is not defined"
     ]
    }
   ],
   "source": [
    "weapon.reforge_from(hehe[0][0], hehe[0][1])"
   ]
  },
  {
   "cell_type": "code",
   "execution_count": 23,
   "id": "a2c2c1a4",
   "metadata": {},
   "outputs": [
    {
     "ename": "NameError",
     "evalue": "name 'weapon' is not defined",
     "output_type": "error",
     "traceback": [
      "\u001b[1;31m---------------------------------------------------------------------------\u001b[0m",
      "\u001b[1;31mNameError\u001b[0m                                 Traceback (most recent call last)",
      "\u001b[1;32m~\\AppData\\Local\\Temp\\ipykernel_8972\\119426183.py\u001b[0m in \u001b[0;36m<module>\u001b[1;34m\u001b[0m\n\u001b[1;32m----> 1\u001b[1;33m \u001b[0mweapon\u001b[0m\u001b[1;33m.\u001b[0m\u001b[0mprint_stats\u001b[0m\u001b[1;33m(\u001b[0m\u001b[1;33m)\u001b[0m\u001b[1;33m\u001b[0m\u001b[1;33m\u001b[0m\u001b[0m\n\u001b[0m",
      "\u001b[1;31mNameError\u001b[0m: name 'weapon' is not defined"
     ]
    }
   ],
   "source": [
    "weapon.print_stats()"
   ]
  },
  {
   "cell_type": "code",
   "execution_count": 24,
   "id": "602cc7c0",
   "metadata": {},
   "outputs": [
    {
     "name": "stdout",
     "output_type": "stream",
     "text": [
      "REFORGE FROM 0 NOT VALID\n",
      "REFORGE FROM 0 NOT VALID\n",
      "REFORGE FROM 0 NOT VALID\n",
      "REFORGE FROM 0 NOT VALID\n",
      "REFORGE FROM 0 NOT VALID\n",
      "REFORGE FROM 0 NOT VALID\n",
      "REFORGE FROM 0 NOT VALID\n",
      "REFORGE FROM 0 NOT VALID\n",
      "Reforge crit to hit\n",
      " \n",
      "Hit: 428\n",
      "Exp: 0\n",
      "Crit: 642\n",
      "Haste: 1070\n",
      "Mastery: 1070\n",
      "------------\n",
      " \n",
      "Reforge crit to exp\n",
      " \n",
      "Hit: 428\n",
      "Exp: 256\n",
      "Crit: 386\n",
      "Haste: 1070\n",
      "Mastery: 1070\n",
      "------------\n",
      " \n",
      "Reforge crit to haste\n",
      " \n",
      "Hit: 428\n",
      "Exp: 256\n",
      "Crit: 232\n",
      "Haste: 1224\n",
      "Mastery: 1070\n",
      "------------\n",
      " \n",
      "Reforge crit to mastery\n",
      " \n",
      "Hit: 428\n",
      "Exp: 256\n",
      "Crit: 140\n",
      "Haste: 1224\n",
      "Mastery: 1162\n",
      "------------\n",
      " \n",
      "Reforge haste to hit\n",
      " \n",
      "Hit: 917\n",
      "Exp: 256\n",
      "Crit: 140\n",
      "Haste: 735\n",
      "Mastery: 1162\n",
      "------------\n",
      " \n",
      "Reforge haste to exp\n",
      " \n",
      "Hit: 917\n",
      "Exp: 550\n",
      "Crit: 140\n",
      "Haste: 441\n",
      "Mastery: 1162\n",
      "------------\n",
      " \n",
      "Reforge haste to crit\n",
      " \n",
      "Hit: 917\n",
      "Exp: 550\n",
      "Crit: 316\n",
      "Haste: 265\n",
      "Mastery: 1162\n",
      "------------\n",
      " \n",
      "Reforge haste to mastery\n",
      " \n",
      "Hit: 917\n",
      "Exp: 550\n",
      "Crit: 316\n",
      "Haste: 159\n",
      "Mastery: 1268\n",
      "------------\n",
      " \n",
      "Reforge mastery to hit\n",
      " \n",
      "Hit: 1424\n",
      "Exp: 550\n",
      "Crit: 316\n",
      "Haste: 159\n",
      "Mastery: 761\n",
      "------------\n",
      " \n",
      "Reforge mastery to exp\n",
      " \n",
      "Hit: 1424\n",
      "Exp: 854\n",
      "Crit: 316\n",
      "Haste: 159\n",
      "Mastery: 457\n",
      "------------\n",
      " \n",
      "Reforge mastery to crit\n",
      " \n",
      "Hit: 1424\n",
      "Exp: 854\n",
      "Crit: 498\n",
      "Haste: 159\n",
      "Mastery: 275\n",
      "------------\n",
      " \n",
      "Reforge mastery to haste\n",
      " \n",
      "Hit: 1424\n",
      "Exp: 854\n",
      "Crit: 498\n",
      "Haste: 269\n",
      "Mastery: 165\n",
      "------------\n",
      " \n"
     ]
    }
   ],
   "source": [
    "n = len(hehe)\n",
    "for i in range(n):\n",
    "        if back.stats[hehe[i][0]] != 0:\n",
    "            print(\"Reforge \" + hehe[i][0] + \" to \" + hehe[i][1])\n",
    "            print(\" \")\n",
    "            back.reforge_from(hehe[i][0], hehe[i][1])\n",
    "            back.print_stats()\n",
    "            print(\"------------\")\n",
    "            print(\" \")\n",
    "        else:\n",
    "            print(\"REFORGE FROM 0 NOT VALID\")"
   ]
  },
  {
   "cell_type": "code",
   "execution_count": 25,
   "id": "ace6f78b",
   "metadata": {},
   "outputs": [
    {
     "data": {
      "text/plain": [
       "1424"
      ]
     },
     "execution_count": 25,
     "metadata": {},
     "output_type": "execute_result"
    }
   ],
   "source": [
    "back.stats[hehe[0][0]]"
   ]
  },
  {
   "cell_type": "markdown",
   "id": "a2f7b091",
   "metadata": {},
   "source": [
    "### 11-Jun-2023 work"
   ]
  },
  {
   "cell_type": "code",
   "execution_count": 26,
   "id": "9be6b7c0",
   "metadata": {},
   "outputs": [
    {
     "data": {
      "text/plain": [
       "<__main__.Item at 0x1e9ad61a5b0>"
      ]
     },
     "execution_count": 26,
     "metadata": {},
     "output_type": "execute_result"
    }
   ],
   "source": [
    "head"
   ]
  },
  {
   "cell_type": "code",
   "execution_count": 34,
   "id": "17087afd",
   "metadata": {},
   "outputs": [
    {
     "data": {
      "text/plain": [
       "['hit', 'exp', 'crit', 'haste', 'mastery']"
      ]
     },
     "execution_count": 34,
     "metadata": {},
     "output_type": "execute_result"
    }
   ],
   "source": [
    "all_stats"
   ]
  },
  {
   "cell_type": "code",
   "execution_count": 36,
   "id": "c086a1b9",
   "metadata": {},
   "outputs": [
    {
     "name": "stdout",
     "output_type": "stream",
     "text": [
      "Hit: 0\n",
      "Exp: 0\n",
      "Crit: 1725\n",
      "Haste: 1652\n",
      "Mastery: 0\n"
     ]
    }
   ],
   "source": [
    "head.print_stats()"
   ]
  },
  {
   "cell_type": "code",
   "execution_count": 37,
   "id": "ce000002",
   "metadata": {},
   "outputs": [
    {
     "ename": "SyntaxError",
     "evalue": "invalid syntax (3919583669.py, line 1)",
     "output_type": "error",
     "traceback": [
      "\u001b[1;36m  File \u001b[1;32m\"C:\\Users\\huni9\\AppData\\Local\\Temp\\ipykernel_8972\\3919583669.py\"\u001b[1;36m, line \u001b[1;32m1\u001b[0m\n\u001b[1;33m    head.[all_stats[0]]\u001b[0m\n\u001b[1;37m         ^\u001b[0m\n\u001b[1;31mSyntaxError\u001b[0m\u001b[1;31m:\u001b[0m invalid syntax\n"
     ]
    }
   ],
   "source": [
    "head.[all_stats[0]]"
   ]
  },
  {
   "cell_type": "code",
   "execution_count": 39,
   "id": "287784e4",
   "metadata": {},
   "outputs": [
    {
     "data": {
      "text/plain": [
       "0"
      ]
     },
     "execution_count": 39,
     "metadata": {},
     "output_type": "execute_result"
    }
   ],
   "source": [
    "head.stats[\"hit\"]"
   ]
  },
  {
   "cell_type": "code",
   "execution_count": 40,
   "id": "f8be33c1",
   "metadata": {},
   "outputs": [
    {
     "name": "stdout",
     "output_type": "stream",
     "text": [
      "hit\n",
      "exp\n",
      "crit\n",
      "haste\n",
      "mastery\n"
     ]
    }
   ],
   "source": [
    "\n",
    "    print(i)"
   ]
  },
  {
   "cell_type": "code",
   "execution_count": 50,
   "id": "db21868f",
   "metadata": {},
   "outputs": [
    {
     "name": "stdout",
     "output_type": "stream",
     "text": [
      "done for hit\n",
      "\n",
      "done for exp\n",
      "\n",
      "Hit: 0\n",
      "Exp: 0\n",
      "Crit: 1725\n",
      "Haste: 1652\n",
      "Mastery: 0\n",
      "------------\n",
      "Hit: 0\n",
      "Exp: 0\n",
      "Crit: 1725\n",
      "Haste: 1652\n",
      "Mastery: 0\n",
      "------------\n",
      "Hit: 0\n",
      "Exp: 0\n",
      "Crit: 1725\n",
      "Haste: 1652\n",
      "Mastery: 0\n",
      "------------\n",
      "Hit: 0\n",
      "Exp: 0\n",
      "Crit: 1725\n",
      "Haste: 1652\n",
      "Mastery: 0\n",
      "------------\n",
      "done for crit\n",
      "\n",
      "Hit: 0\n",
      "Exp: 0\n",
      "Crit: 1725\n",
      "Haste: 1652\n",
      "Mastery: 0\n",
      "------------\n",
      "Hit: 0\n",
      "Exp: 0\n",
      "Crit: 1725\n",
      "Haste: 1652\n",
      "Mastery: 0\n",
      "------------\n",
      "Hit: 0\n",
      "Exp: 0\n",
      "Crit: 1725\n",
      "Haste: 1652\n",
      "Mastery: 0\n",
      "------------\n",
      "Hit: 0\n",
      "Exp: 0\n",
      "Crit: 1725\n",
      "Haste: 1652\n",
      "Mastery: 0\n",
      "------------\n",
      "done for haste\n",
      "\n",
      "done for mastery\n",
      "\n"
     ]
    }
   ],
   "source": [
    "for i in all_stats:\n",
    "    if head.stats[i] != 0:\n",
    "        for j in all_stats:\n",
    "            if i != j:\n",
    "                head.reforge_from(\"hit\", j)\n",
    "                head.print_stats()\n",
    "                print('------------')\n",
    "    print(f'done for {i}')\n",
    "    print('')"
   ]
  },
  {
   "cell_type": "code",
   "execution_count": null,
   "id": "51dc5bb0",
   "metadata": {},
   "outputs": [],
   "source": []
  }
 ],
 "metadata": {
  "kernelspec": {
   "display_name": "Python 3 (ipykernel)",
   "language": "python",
   "name": "python3"
  },
  "language_info": {
   "codemirror_mode": {
    "name": "ipython",
    "version": 3
   },
   "file_extension": ".py",
   "mimetype": "text/x-python",
   "name": "python",
   "nbconvert_exporter": "python",
   "pygments_lexer": "ipython3",
   "version": "3.9.13"
  }
 },
 "nbformat": 4,
 "nbformat_minor": 5
}
