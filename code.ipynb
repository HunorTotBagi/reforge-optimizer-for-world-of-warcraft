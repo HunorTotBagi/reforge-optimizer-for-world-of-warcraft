{
 "cells": [
  {
   "cell_type": "code",
   "execution_count": 20,
   "id": "371d43b5",
   "metadata": {},
   "outputs": [],
   "source": [
    "class Item:\n",
    "    list_of_item = []  # Class variable to store all instances of Item\n",
    "\n",
    "    def __init__(self, hit=0, exp=0, crit=0, haste=0, mastery=0):\n",
    "        # Initialize the item's stats dictionary with the provided values\n",
    "        self.stats = {\n",
    "            \"hit\": hit,\n",
    "            \"exp\": exp,\n",
    "            \"crit\": crit,\n",
    "            \"haste\": haste,\n",
    "            \"mastery\": mastery\n",
    "        }\n",
    "        \n",
    "        # Initialize reforge related attributes\n",
    "        self.reforge_from = None\n",
    "        self.reforge_to = None\n",
    "        self.amount_to_reforge = 0\n",
    "        self.reforged = False # Track if the item has been reforged\n",
    "        self.restored = False # Track if the item has been restored\n",
    "        \n",
    "        # Add the current instance to the class variable\n",
    "        Item.list_of_item.append(self)\n",
    "\n",
    "    def reforge(self, reforge_from, reforge_to):\n",
    "        if self.reforged:\n",
    "            # Check if the item has already been reforged\n",
    "            print(\"This item has already been reforged.\")\n",
    "        else:\n",
    "            if self.stats[reforge_to] > 0:\n",
    "                # Check if the 'reforge_to' stat already has a value greater than zero\n",
    "                print(f\"You can't reforge to {reforge_to}\")\n",
    "            else:\n",
    "                # Perform the reforge\n",
    "                self.amount_to_reforge = int(self.stats[reforge_from] * 0.4)\n",
    "                self.stats[reforge_from] -= self.amount_to_reforge\n",
    "                self.stats[reforge_to] += self.amount_to_reforge\n",
    "                self.reforge_from = reforge_from\n",
    "                self.reforge_to = reforge_to\n",
    "                self.reforged = True\n",
    "                self.restored = False\n",
    "\n",
    "    def restore(self):\n",
    "        if not self.restored:\n",
    "            # Restore the item to its original state\n",
    "            self.stats[self.reforge_from] += self.amount_to_reforge\n",
    "            self.stats[self.reforge_to] -= self.amount_to_reforge\n",
    "            self.restored = True\n",
    "            self.reforged = False"
   ]
  },
  {
   "cell_type": "markdown",
   "id": "ff515efd",
   "metadata": {},
   "source": [
    "### Methods reforge() and restore working properly."
   ]
  },
  {
   "cell_type": "code",
   "execution_count": 21,
   "id": "60353004",
   "metadata": {},
   "outputs": [],
   "source": [
    "head = Item(crit=1725, haste=1652)\n",
    "neck = Item(crit=716, haste=841)\n",
    "shoulder = Item(haste=1185, mastery=1185)"
   ]
  },
  {
   "cell_type": "code",
   "execution_count": 22,
   "id": "055c02fd",
   "metadata": {},
   "outputs": [
    {
     "name": "stdout",
     "output_type": "stream",
     "text": [
      "{'hit': 0, 'exp': 0, 'crit': 1725, 'haste': 1652, 'mastery': 0}\n"
     ]
    }
   ],
   "source": [
    "print(head.stats)"
   ]
  },
  {
   "cell_type": "code",
   "execution_count": 23,
   "id": "c081ce6b",
   "metadata": {},
   "outputs": [
    {
     "data": {
      "text/plain": [
       "{'hit': 0, 'exp': 0, 'crit': 1035, 'haste': 1652, 'mastery': 690}"
      ]
     },
     "execution_count": 23,
     "metadata": {},
     "output_type": "execute_result"
    }
   ],
   "source": [
    "head.reforge(\"crit\", \"mastery\")\n",
    "head.stats"
   ]
  },
  {
   "cell_type": "code",
   "execution_count": 24,
   "id": "cff674e9",
   "metadata": {},
   "outputs": [
    {
     "name": "stdout",
     "output_type": "stream",
     "text": [
      "This item has already been reforged.\n"
     ]
    }
   ],
   "source": [
    "head.reforge(\"crit\", \"mastery\")"
   ]
  },
  {
   "cell_type": "code",
   "execution_count": 25,
   "id": "a5484582",
   "metadata": {},
   "outputs": [
    {
     "data": {
      "text/plain": [
       "{'hit': 0, 'exp': 0, 'crit': 1035, 'haste': 1652, 'mastery': 690}"
      ]
     },
     "execution_count": 25,
     "metadata": {},
     "output_type": "execute_result"
    }
   ],
   "source": [
    "head.stats"
   ]
  },
  {
   "cell_type": "code",
   "execution_count": 26,
   "id": "0c2b82e1",
   "metadata": {},
   "outputs": [
    {
     "data": {
      "text/plain": [
       "{'hit': 0, 'exp': 0, 'crit': 1725, 'haste': 1652, 'mastery': 0}"
      ]
     },
     "execution_count": 26,
     "metadata": {},
     "output_type": "execute_result"
    }
   ],
   "source": [
    "head.restore()\n",
    "head.stats"
   ]
  },
  {
   "cell_type": "code",
   "execution_count": 27,
   "id": "9019d7a2",
   "metadata": {},
   "outputs": [
    {
     "data": {
      "text/plain": [
       "{'hit': 660, 'exp': 0, 'crit': 1725, 'haste': 992, 'mastery': 0}"
      ]
     },
     "execution_count": 27,
     "metadata": {},
     "output_type": "execute_result"
    }
   ],
   "source": [
    "head.reforge(\"haste\", \"hit\")\n",
    "head.stats"
   ]
  },
  {
   "cell_type": "code",
   "execution_count": 28,
   "id": "41dc5a74",
   "metadata": {},
   "outputs": [
    {
     "name": "stdout",
     "output_type": "stream",
     "text": [
      "This item has already been reforged.\n"
     ]
    },
    {
     "data": {
      "text/plain": [
       "{'hit': 660, 'exp': 0, 'crit': 1725, 'haste': 992, 'mastery': 0}"
      ]
     },
     "execution_count": 28,
     "metadata": {},
     "output_type": "execute_result"
    }
   ],
   "source": [
    "head.reforge(\"haste\", \"hit\")\n",
    "head.stats"
   ]
  },
  {
   "cell_type": "code",
   "execution_count": 29,
   "id": "bbcdfc5a",
   "metadata": {},
   "outputs": [
    {
     "name": "stdout",
     "output_type": "stream",
     "text": [
      "This item has already been reforged.\n"
     ]
    },
    {
     "data": {
      "text/plain": [
       "{'hit': 660, 'exp': 0, 'crit': 1725, 'haste': 992, 'mastery': 0}"
      ]
     },
     "execution_count": 29,
     "metadata": {},
     "output_type": "execute_result"
    }
   ],
   "source": [
    "head.reforge(\"exp\", \"mastery\")\n",
    "head.stats"
   ]
  },
  {
   "cell_type": "code",
   "execution_count": 30,
   "id": "d037edba",
   "metadata": {},
   "outputs": [
    {
     "data": {
      "text/plain": [
       "{'hit': 0, 'exp': 0, 'crit': 1725, 'haste': 1652, 'mastery': 0}"
      ]
     },
     "execution_count": 30,
     "metadata": {},
     "output_type": "execute_result"
    }
   ],
   "source": [
    "head.restore()\n",
    "head.stats"
   ]
  },
  {
   "cell_type": "code",
   "execution_count": 31,
   "id": "ff0bc644",
   "metadata": {},
   "outputs": [
    {
     "data": {
      "text/plain": [
       "{'hit': 0, 'exp': 0, 'crit': 1725, 'haste': 1652, 'mastery': 0}"
      ]
     },
     "execution_count": 31,
     "metadata": {},
     "output_type": "execute_result"
    }
   ],
   "source": [
    "head.stats"
   ]
  },
  {
   "cell_type": "markdown",
   "id": "9854c308",
   "metadata": {},
   "source": [
    "### List of available combinations"
   ]
  },
  {
   "cell_type": "code",
   "execution_count": 32,
   "id": "f0030d88",
   "metadata": {},
   "outputs": [],
   "source": [
    "def available_reforges(item):\n",
    "    # List of all possible stats for reforging\n",
    "    all_stats = [\"hit\", \"exp\", \"crit\", \"haste\", \"mastery\"]\n",
    "\n",
    "    # Initialize two empty lists to separate stats with values greater than zero and equal to zero\n",
    "    greater_than_zero = []\n",
    "    equal_to_zero = []\n",
    "\n",
    "    # Iterate through each stat in all_stats\n",
    "    for stat in all_stats:\n",
    "        # Check if the item's stat value for the current stat is greater than zero\n",
    "        if item.stats[stat] > 0:\n",
    "            # If the value is greater than zero, add the stat to the greater_than_zero list\n",
    "            greater_than_zero.append(stat)\n",
    "        else:\n",
    "            # If the value is zero or less, add the stat to the equal_to_zero list\n",
    "            equal_to_zero.append(stat)\n",
    "\n",
    "    # Return the two lists containing stats with values greater than zero and equal to zero\n",
    "    return greater_than_zero, equal_to_zero"
   ]
  },
  {
   "cell_type": "code",
   "execution_count": 33,
   "id": "e9d4dbe9",
   "metadata": {},
   "outputs": [
    {
     "data": {
      "text/plain": [
       "(['crit', 'haste'], ['hit', 'exp', 'mastery'])"
      ]
     },
     "execution_count": 33,
     "metadata": {},
     "output_type": "execute_result"
    }
   ],
   "source": [
    "available_reforges(head)"
   ]
  },
  {
   "cell_type": "code",
   "execution_count": 34,
   "id": "9480267e",
   "metadata": {},
   "outputs": [
    {
     "data": {
      "text/plain": [
       "{'hit': 0, 'exp': 0, 'crit': 1725, 'haste': 1652, 'mastery': 0}"
      ]
     },
     "execution_count": 34,
     "metadata": {},
     "output_type": "execute_result"
    }
   ],
   "source": [
    "head.stats"
   ]
  },
  {
   "cell_type": "code",
   "execution_count": 35,
   "id": "26c7f87e",
   "metadata": {},
   "outputs": [],
   "source": [
    "def reforge_combinations(item):\n",
    "    # Get the lists of stats with values greater than zero and equal to zero\n",
    "    greater_than_zero, equal_to_zero = available_reforges(item)\n",
    "    \n",
    "    # Iterate through each stat with a value greater than zero\n",
    "    for reforge_from in greater_than_zero:\n",
    "        # Iterate through each stat with a value equal to zero\n",
    "        for reforge_to in equal_to_zero:\n",
    "            print(f\"{reforge_from} -> {reforge_to}\")\n",
    "            print('')\n",
    "            print(item.stats)\n",
    "            item.reforge(reforge_from, reforge_to) # Perform the reforge\n",
    "            print(item.stats)\n",
    "            item.restore() # Restore the item to its original state\n",
    "            print(item.stats)\n",
    "            print('')"
   ]
  },
  {
   "cell_type": "code",
   "execution_count": 39,
   "id": "24912037",
   "metadata": {},
   "outputs": [
    {
     "data": {
      "text/plain": [
       "[<__main__.Item at 0x1e5dca873a0>,\n",
       " <__main__.Item at 0x1e5dca873d0>,\n",
       " <__main__.Item at 0x1e5dca87c40>]"
      ]
     },
     "execution_count": 39,
     "metadata": {},
     "output_type": "execute_result"
    }
   ],
   "source": [
    "Item.list_of_item"
   ]
  },
  {
   "cell_type": "code",
   "execution_count": 42,
   "id": "e9dbdb5b",
   "metadata": {
    "scrolled": false
   },
   "outputs": [
    {
     "name": "stdout",
     "output_type": "stream",
     "text": [
      "<__main__.Item object at 0x000001E5DCA873A0>\n",
      " \n",
      "crit -> hit\n",
      "\n",
      "{'hit': 0, 'exp': 0, 'crit': 1725, 'haste': 1652, 'mastery': 0}\n",
      "{'hit': 690, 'exp': 0, 'crit': 1035, 'haste': 1652, 'mastery': 0}\n",
      "{'hit': 0, 'exp': 0, 'crit': 1725, 'haste': 1652, 'mastery': 0}\n",
      "\n",
      "crit -> exp\n",
      "\n",
      "{'hit': 0, 'exp': 0, 'crit': 1725, 'haste': 1652, 'mastery': 0}\n",
      "{'hit': 0, 'exp': 690, 'crit': 1035, 'haste': 1652, 'mastery': 0}\n",
      "{'hit': 0, 'exp': 0, 'crit': 1725, 'haste': 1652, 'mastery': 0}\n",
      "\n",
      "crit -> mastery\n",
      "\n",
      "{'hit': 0, 'exp': 0, 'crit': 1725, 'haste': 1652, 'mastery': 0}\n",
      "{'hit': 0, 'exp': 0, 'crit': 1035, 'haste': 1652, 'mastery': 690}\n",
      "{'hit': 0, 'exp': 0, 'crit': 1725, 'haste': 1652, 'mastery': 0}\n",
      "\n",
      "haste -> hit\n",
      "\n",
      "{'hit': 0, 'exp': 0, 'crit': 1725, 'haste': 1652, 'mastery': 0}\n",
      "{'hit': 660, 'exp': 0, 'crit': 1725, 'haste': 992, 'mastery': 0}\n",
      "{'hit': 0, 'exp': 0, 'crit': 1725, 'haste': 1652, 'mastery': 0}\n",
      "\n",
      "haste -> exp\n",
      "\n",
      "{'hit': 0, 'exp': 0, 'crit': 1725, 'haste': 1652, 'mastery': 0}\n",
      "{'hit': 0, 'exp': 660, 'crit': 1725, 'haste': 992, 'mastery': 0}\n",
      "{'hit': 0, 'exp': 0, 'crit': 1725, 'haste': 1652, 'mastery': 0}\n",
      "\n",
      "haste -> mastery\n",
      "\n",
      "{'hit': 0, 'exp': 0, 'crit': 1725, 'haste': 1652, 'mastery': 0}\n",
      "{'hit': 0, 'exp': 0, 'crit': 1725, 'haste': 992, 'mastery': 660}\n",
      "{'hit': 0, 'exp': 0, 'crit': 1725, 'haste': 1652, 'mastery': 0}\n",
      "\n",
      "<__main__.Item object at 0x000001E5DCA873D0>\n",
      " \n",
      "crit -> hit\n",
      "\n",
      "{'hit': 0, 'exp': 0, 'crit': 716, 'haste': 841, 'mastery': 0}\n",
      "{'hit': 286, 'exp': 0, 'crit': 430, 'haste': 841, 'mastery': 0}\n",
      "{'hit': 0, 'exp': 0, 'crit': 716, 'haste': 841, 'mastery': 0}\n",
      "\n",
      "crit -> exp\n",
      "\n",
      "{'hit': 0, 'exp': 0, 'crit': 716, 'haste': 841, 'mastery': 0}\n",
      "{'hit': 0, 'exp': 286, 'crit': 430, 'haste': 841, 'mastery': 0}\n",
      "{'hit': 0, 'exp': 0, 'crit': 716, 'haste': 841, 'mastery': 0}\n",
      "\n",
      "crit -> mastery\n",
      "\n",
      "{'hit': 0, 'exp': 0, 'crit': 716, 'haste': 841, 'mastery': 0}\n",
      "{'hit': 0, 'exp': 0, 'crit': 430, 'haste': 841, 'mastery': 286}\n",
      "{'hit': 0, 'exp': 0, 'crit': 716, 'haste': 841, 'mastery': 0}\n",
      "\n",
      "haste -> hit\n",
      "\n",
      "{'hit': 0, 'exp': 0, 'crit': 716, 'haste': 841, 'mastery': 0}\n",
      "{'hit': 336, 'exp': 0, 'crit': 716, 'haste': 505, 'mastery': 0}\n",
      "{'hit': 0, 'exp': 0, 'crit': 716, 'haste': 841, 'mastery': 0}\n",
      "\n",
      "haste -> exp\n",
      "\n",
      "{'hit': 0, 'exp': 0, 'crit': 716, 'haste': 841, 'mastery': 0}\n",
      "{'hit': 0, 'exp': 336, 'crit': 716, 'haste': 505, 'mastery': 0}\n",
      "{'hit': 0, 'exp': 0, 'crit': 716, 'haste': 841, 'mastery': 0}\n",
      "\n",
      "haste -> mastery\n",
      "\n",
      "{'hit': 0, 'exp': 0, 'crit': 716, 'haste': 841, 'mastery': 0}\n",
      "{'hit': 0, 'exp': 0, 'crit': 716, 'haste': 505, 'mastery': 336}\n",
      "{'hit': 0, 'exp': 0, 'crit': 716, 'haste': 841, 'mastery': 0}\n",
      "\n",
      "<__main__.Item object at 0x000001E5DCA87C40>\n",
      " \n",
      "haste -> hit\n",
      "\n",
      "{'hit': 0, 'exp': 0, 'crit': 0, 'haste': 1185, 'mastery': 1185}\n",
      "{'hit': 474, 'exp': 0, 'crit': 0, 'haste': 711, 'mastery': 1185}\n",
      "{'hit': 0, 'exp': 0, 'crit': 0, 'haste': 1185, 'mastery': 1185}\n",
      "\n",
      "haste -> exp\n",
      "\n",
      "{'hit': 0, 'exp': 0, 'crit': 0, 'haste': 1185, 'mastery': 1185}\n",
      "{'hit': 0, 'exp': 474, 'crit': 0, 'haste': 711, 'mastery': 1185}\n",
      "{'hit': 0, 'exp': 0, 'crit': 0, 'haste': 1185, 'mastery': 1185}\n",
      "\n",
      "haste -> crit\n",
      "\n",
      "{'hit': 0, 'exp': 0, 'crit': 0, 'haste': 1185, 'mastery': 1185}\n",
      "{'hit': 0, 'exp': 0, 'crit': 474, 'haste': 711, 'mastery': 1185}\n",
      "{'hit': 0, 'exp': 0, 'crit': 0, 'haste': 1185, 'mastery': 1185}\n",
      "\n",
      "mastery -> hit\n",
      "\n",
      "{'hit': 0, 'exp': 0, 'crit': 0, 'haste': 1185, 'mastery': 1185}\n",
      "{'hit': 474, 'exp': 0, 'crit': 0, 'haste': 1185, 'mastery': 711}\n",
      "{'hit': 0, 'exp': 0, 'crit': 0, 'haste': 1185, 'mastery': 1185}\n",
      "\n",
      "mastery -> exp\n",
      "\n",
      "{'hit': 0, 'exp': 0, 'crit': 0, 'haste': 1185, 'mastery': 1185}\n",
      "{'hit': 0, 'exp': 474, 'crit': 0, 'haste': 1185, 'mastery': 711}\n",
      "{'hit': 0, 'exp': 0, 'crit': 0, 'haste': 1185, 'mastery': 1185}\n",
      "\n",
      "mastery -> crit\n",
      "\n",
      "{'hit': 0, 'exp': 0, 'crit': 0, 'haste': 1185, 'mastery': 1185}\n",
      "{'hit': 0, 'exp': 0, 'crit': 474, 'haste': 1185, 'mastery': 711}\n",
      "{'hit': 0, 'exp': 0, 'crit': 0, 'haste': 1185, 'mastery': 1185}\n",
      "\n"
     ]
    }
   ],
   "source": [
    "for item in Item.list_of_item:\n",
    "    print(item)\n",
    "    print(' ')\n",
    "    reforge_combinations(item)"
   ]
  }
 ],
 "metadata": {
  "kernelspec": {
   "display_name": "Python 3 (ipykernel)",
   "language": "python",
   "name": "python3"
  },
  "language_info": {
   "codemirror_mode": {
    "name": "ipython",
    "version": 3
   },
   "file_extension": ".py",
   "mimetype": "text/x-python",
   "name": "python",
   "nbconvert_exporter": "python",
   "pygments_lexer": "ipython3",
   "version": "3.9.13"
  }
 },
 "nbformat": 4,
 "nbformat_minor": 5
}
