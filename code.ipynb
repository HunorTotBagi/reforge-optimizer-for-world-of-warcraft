{
 "cells": [
  {
   "cell_type": "code",
   "execution_count": 1,
   "id": "371d43b5",
   "metadata": {},
   "outputs": [],
   "source": [
    "class Item:\n",
    "    list_of_item = []  # Class variable to store all instances of Item\n",
    "\n",
    "    def __init__(self, hit=0, exp=0, crit=0, haste=0, mastery=0):\n",
    "        # Initialize the item's stats dictionary with the provided values\n",
    "        self.stats = {\n",
    "            \"hit\": hit,\n",
    "            \"exp\": exp,\n",
    "            \"crit\": crit,\n",
    "            \"haste\": haste,\n",
    "            \"mastery\": mastery\n",
    "        }\n",
    "        \n",
    "        # Initialize reforge related attributes\n",
    "        self.reforge_from = None\n",
    "        self.reforge_to = None\n",
    "        self.amount_to_reforge = 0\n",
    "        self.reforged = False # Track if the item has been reforged\n",
    "        self.restored = False # Track if the item has been restored\n",
    "        \n",
    "        # Add the current instance to the class variable\n",
    "        Item.list_of_item.append(self)\n",
    "\n",
    "    def reforge(self, reforge_from, reforge_to):\n",
    "        if self.reforged:\n",
    "            # Check if the item has already been reforged\n",
    "            print(\"This item has already been reforged.\")\n",
    "        else:\n",
    "            if self.stats[reforge_to] > 0:\n",
    "                # Check if the 'reforge_to' stat already has a value greater than zero\n",
    "                print(f\"You can't reforge to {reforge_to}\")\n",
    "            else:\n",
    "                # Perform the reforge\n",
    "                self.amount_to_reforge = int(self.stats[reforge_from] * 0.4)\n",
    "                self.stats[reforge_from] -= self.amount_to_reforge\n",
    "                self.stats[reforge_to] += self.amount_to_reforge\n",
    "                self.reforge_from = reforge_from\n",
    "                self.reforge_to = reforge_to\n",
    "                self.reforged = True\n",
    "                self.restored = False\n",
    "\n",
    "    def restore(self):\n",
    "        if not self.restored:\n",
    "            # Restore the item to its original state\n",
    "            self.stats[self.reforge_from] += self.amount_to_reforge\n",
    "            self.stats[self.reforge_to] -= self.amount_to_reforge\n",
    "            self.restored = True\n",
    "            self.reforged = False"
   ]
  },
  {
   "cell_type": "code",
   "execution_count": 2,
   "id": "d9e49521",
   "metadata": {},
   "outputs": [],
   "source": [
    "def add(new_item, item):\n",
    "    new_item.stats['hit'] += item.stats['hit']\n",
    "    new_item.stats['exp'] += item.stats['exp']\n",
    "    new_item.stats['crit'] += item.stats['crit']\n",
    "    new_item.stats['haste'] += item.stats['haste']\n",
    "    new_item.stats['mastery'] += item.stats['mastery']"
   ]
  },
  {
   "cell_type": "code",
   "execution_count": 3,
   "id": "68c0715d",
   "metadata": {},
   "outputs": [],
   "source": [
    "import itertools"
   ]
  },
  {
   "cell_type": "markdown",
   "id": "b76879eb",
   "metadata": {},
   "source": [
    "### Defining all items on the character"
   ]
  },
  {
   "cell_type": "code",
   "execution_count": 4,
   "id": "60353004",
   "metadata": {},
   "outputs": [],
   "source": [
    "head = Item(crit=1725, haste=1652)\n",
    "neck = Item(haste=841, crit=716)\n",
    "shoulder = Item(mastery=1185, haste=1185)\n",
    "back = Item(crit=1069, haste=1069, mastery=1069)\n",
    "chest = Item(crit=1725, haste=1652)\n",
    "wrist = Item(exp=1100, crit=864)\n",
    "weapon = Item(hit=1185, haste=1795)\n",
    "hands = Item(crit=1135, haste=1073)\n",
    "waist = Item(hit=1134, crit=1086)\n",
    "legs = Item(mastery=1554, haste=1490)\n",
    "feet = Item(haste=1361, crit=1218)\n",
    "finger_1 = Item(exp=1023, mastery=1028)\n",
    "finger_2 = Item(hit=1157, crit=798)"
   ]
  },
  {
   "cell_type": "markdown",
   "id": "ea95fdbc",
   "metadata": {},
   "source": [
    "### Defining all enchants on the character"
   ]
  },
  {
   "cell_type": "code",
   "execution_count": 5,
   "id": "3c8b3f79",
   "metadata": {},
   "outputs": [],
   "source": [
    "shoulder_enchant = Item(crit=100)\n",
    "back_enchant = Item(crit=180)\n",
    "hands_enchant = Item(haste=170)\n",
    "legs_enchant = Item(crit=165)"
   ]
  },
  {
   "cell_type": "markdown",
   "id": "c0d2f0b1",
   "metadata": {},
   "source": [
    "### Defining all gems on the character"
   ]
  },
  {
   "cell_type": "code",
   "execution_count": 6,
   "id": "ca1464e4",
   "metadata": {},
   "outputs": [],
   "source": [
    "head_gem = Item(crit=324)\n",
    "legs_gem = Item(crit=320)"
   ]
  },
  {
   "cell_type": "code",
   "execution_count": 7,
   "id": "dc9c4aa6",
   "metadata": {},
   "outputs": [
    {
     "data": {
      "text/plain": [
       "{'hit': 3476, 'exp': 2123, 'crit': 11105, 'haste': 12288, 'mastery': 4836}"
      ]
     },
     "execution_count": 7,
     "metadata": {},
     "output_type": "execute_result"
    }
   ],
   "source": [
    "char_current_stats = Item()\n",
    "\n",
    "for item in Item.list_of_item[:18]:\n",
    "      add(char_current_stats, item)\n",
    "        \n",
    "char_current_stats.stats"
   ]
  },
  {
   "cell_type": "markdown",
   "id": "81891eff",
   "metadata": {},
   "source": [
    "### Methods reforge() and restore working properly."
   ]
  },
  {
   "cell_type": "code",
   "execution_count": 8,
   "id": "055c02fd",
   "metadata": {},
   "outputs": [
    {
     "name": "stdout",
     "output_type": "stream",
     "text": [
      "{'hit': 0, 'exp': 0, 'crit': 1725, 'haste': 1652, 'mastery': 0}\n"
     ]
    }
   ],
   "source": [
    "print(head.stats)"
   ]
  },
  {
   "cell_type": "code",
   "execution_count": 9,
   "id": "c081ce6b",
   "metadata": {},
   "outputs": [
    {
     "data": {
      "text/plain": [
       "{'hit': 0, 'exp': 0, 'crit': 1035, 'haste': 1652, 'mastery': 690}"
      ]
     },
     "execution_count": 9,
     "metadata": {},
     "output_type": "execute_result"
    }
   ],
   "source": [
    "head.reforge(\"crit\", \"mastery\")\n",
    "head.stats"
   ]
  },
  {
   "cell_type": "code",
   "execution_count": 10,
   "id": "cff674e9",
   "metadata": {},
   "outputs": [
    {
     "name": "stdout",
     "output_type": "stream",
     "text": [
      "This item has already been reforged.\n"
     ]
    }
   ],
   "source": [
    "head.reforge(\"crit\", \"mastery\")"
   ]
  },
  {
   "cell_type": "code",
   "execution_count": 11,
   "id": "a5484582",
   "metadata": {},
   "outputs": [
    {
     "data": {
      "text/plain": [
       "{'hit': 0, 'exp': 0, 'crit': 1035, 'haste': 1652, 'mastery': 690}"
      ]
     },
     "execution_count": 11,
     "metadata": {},
     "output_type": "execute_result"
    }
   ],
   "source": [
    "head.stats"
   ]
  },
  {
   "cell_type": "code",
   "execution_count": 12,
   "id": "0c2b82e1",
   "metadata": {},
   "outputs": [
    {
     "data": {
      "text/plain": [
       "{'hit': 0, 'exp': 0, 'crit': 1725, 'haste': 1652, 'mastery': 0}"
      ]
     },
     "execution_count": 12,
     "metadata": {},
     "output_type": "execute_result"
    }
   ],
   "source": [
    "head.restore()\n",
    "head.stats"
   ]
  },
  {
   "cell_type": "code",
   "execution_count": 13,
   "id": "9019d7a2",
   "metadata": {},
   "outputs": [
    {
     "data": {
      "text/plain": [
       "{'hit': 660, 'exp': 0, 'crit': 1725, 'haste': 992, 'mastery': 0}"
      ]
     },
     "execution_count": 13,
     "metadata": {},
     "output_type": "execute_result"
    }
   ],
   "source": [
    "head.reforge(\"haste\", \"hit\")\n",
    "head.stats"
   ]
  },
  {
   "cell_type": "code",
   "execution_count": 14,
   "id": "41dc5a74",
   "metadata": {},
   "outputs": [
    {
     "name": "stdout",
     "output_type": "stream",
     "text": [
      "This item has already been reforged.\n"
     ]
    },
    {
     "data": {
      "text/plain": [
       "{'hit': 660, 'exp': 0, 'crit': 1725, 'haste': 992, 'mastery': 0}"
      ]
     },
     "execution_count": 14,
     "metadata": {},
     "output_type": "execute_result"
    }
   ],
   "source": [
    "head.reforge(\"haste\", \"hit\")\n",
    "head.stats"
   ]
  },
  {
   "cell_type": "code",
   "execution_count": 15,
   "id": "bbcdfc5a",
   "metadata": {},
   "outputs": [
    {
     "name": "stdout",
     "output_type": "stream",
     "text": [
      "This item has already been reforged.\n"
     ]
    },
    {
     "data": {
      "text/plain": [
       "{'hit': 660, 'exp': 0, 'crit': 1725, 'haste': 992, 'mastery': 0}"
      ]
     },
     "execution_count": 15,
     "metadata": {},
     "output_type": "execute_result"
    }
   ],
   "source": [
    "head.reforge(\"exp\", \"mastery\")\n",
    "head.stats"
   ]
  },
  {
   "cell_type": "code",
   "execution_count": 16,
   "id": "d037edba",
   "metadata": {},
   "outputs": [
    {
     "data": {
      "text/plain": [
       "{'hit': 0, 'exp': 0, 'crit': 1725, 'haste': 1652, 'mastery': 0}"
      ]
     },
     "execution_count": 16,
     "metadata": {},
     "output_type": "execute_result"
    }
   ],
   "source": [
    "head.restore()\n",
    "head.stats"
   ]
  },
  {
   "cell_type": "code",
   "execution_count": 17,
   "id": "ff0bc644",
   "metadata": {},
   "outputs": [
    {
     "data": {
      "text/plain": [
       "{'hit': 0, 'exp': 0, 'crit': 1725, 'haste': 1652, 'mastery': 0}"
      ]
     },
     "execution_count": 17,
     "metadata": {},
     "output_type": "execute_result"
    }
   ],
   "source": [
    "head.stats"
   ]
  },
  {
   "cell_type": "markdown",
   "id": "9854c308",
   "metadata": {},
   "source": [
    "### List of available combinations"
   ]
  },
  {
   "cell_type": "code",
   "execution_count": 18,
   "id": "f0030d88",
   "metadata": {},
   "outputs": [],
   "source": [
    "def available_reforges(item):\n",
    "    # List of all possible stats for reforging\n",
    "    all_stats = [\"hit\", \"exp\", \"crit\", \"haste\", \"mastery\"]\n",
    "\n",
    "    # Initialize two empty lists to separate stats with values greater than zero and equal to zero\n",
    "    greater_than_zero = []\n",
    "    equal_to_zero = []\n",
    "\n",
    "    # Iterate through each stat in all_stats\n",
    "    for stat in all_stats:\n",
    "        # Check if the item's stat value for the current stat is greater than zero\n",
    "        if item.stats[stat] > 0:\n",
    "            # If the value is greater than zero, add the stat to the greater_than_zero list\n",
    "            greater_than_zero.append(stat)\n",
    "        else:\n",
    "            # If the value is zero or less, add the stat to the equal_to_zero list\n",
    "            equal_to_zero.append(stat)\n",
    "\n",
    "    # Return the two lists containing stats with values greater than zero and equal to zero\n",
    "    return greater_than_zero, equal_to_zero"
   ]
  },
  {
   "cell_type": "code",
   "execution_count": 19,
   "id": "e9d4dbe9",
   "metadata": {},
   "outputs": [
    {
     "data": {
      "text/plain": [
       "(['crit', 'haste'], ['hit', 'exp', 'mastery'])"
      ]
     },
     "execution_count": 19,
     "metadata": {},
     "output_type": "execute_result"
    }
   ],
   "source": [
    "available_reforges(head)"
   ]
  },
  {
   "cell_type": "code",
   "execution_count": 20,
   "id": "74a6bba4",
   "metadata": {},
   "outputs": [
    {
     "data": {
      "text/plain": [
       "(['haste', 'mastery'], ['hit', 'exp', 'crit'])"
      ]
     },
     "execution_count": 20,
     "metadata": {},
     "output_type": "execute_result"
    }
   ],
   "source": [
    "available_reforges(shoulder)"
   ]
  },
  {
   "cell_type": "code",
   "execution_count": 21,
   "id": "9480267e",
   "metadata": {},
   "outputs": [
    {
     "data": {
      "text/plain": [
       "{'hit': 0, 'exp': 0, 'crit': 1725, 'haste': 1652, 'mastery': 0}"
      ]
     },
     "execution_count": 21,
     "metadata": {},
     "output_type": "execute_result"
    }
   ],
   "source": [
    "head.stats"
   ]
  },
  {
   "cell_type": "code",
   "execution_count": 20,
   "id": "decd986d",
   "metadata": {},
   "outputs": [],
   "source": [
    "def generate_combinations(list1, list2):\n",
    "    return list(itertools.product(list1, list2))"
   ]
  },
  {
   "cell_type": "code",
   "execution_count": 59,
   "id": "9d32b3e0",
   "metadata": {},
   "outputs": [],
   "source": [
    "def remove_bad_reforges(data):\n",
    "    data = [elem for elem in data if elem[0] != 'crit']\n",
    "    data = [elem for elem in data if elem != ('haste', 'mastery')]\n",
    "\n",
    "    return data"
   ]
  },
  {
   "cell_type": "code",
   "execution_count": 60,
   "id": "c534c7b5",
   "metadata": {},
   "outputs": [
    {
     "data": {
      "text/plain": [
       "[('haste', 'hit'), ('haste', 'exp')]"
      ]
     },
     "execution_count": 60,
     "metadata": {},
     "output_type": "execute_result"
    }
   ],
   "source": [
    "one, two = available_reforges(head)\n",
    "combinations1 = generate_combinations(one, two)\n",
    "combinations1 = remove_bad_reforges(combinations1)\n",
    "combinations1"
   ]
  },
  {
   "cell_type": "code",
   "execution_count": 61,
   "id": "5ef86ae9",
   "metadata": {},
   "outputs": [
    {
     "data": {
      "text/plain": [
       "[('haste', 'hit'), ('haste', 'exp')]"
      ]
     },
     "execution_count": 61,
     "metadata": {},
     "output_type": "execute_result"
    }
   ],
   "source": [
    "one, two = available_reforges(neck)\n",
    "combinations2 = generate_combinations(one, two)\n",
    "combinations2 = remove_bad_reforges(combinations2)\n",
    "combinations2"
   ]
  },
  {
   "cell_type": "code",
   "execution_count": 62,
   "id": "ea56fd98",
   "metadata": {},
   "outputs": [
    {
     "data": {
      "text/plain": [
       "[('haste', 'hit'), ('haste', 'exp')]"
      ]
     },
     "execution_count": 62,
     "metadata": {},
     "output_type": "execute_result"
    }
   ],
   "source": [
    "one, two = available_reforges(shoulder)\n",
    "combinations3 = generate_combinations(one, two)\n",
    "combinations3 = remove_bad_reforges(combinations3)\n",
    "combinations3"
   ]
  },
  {
   "cell_type": "code",
   "execution_count": 66,
   "id": "795f005f",
   "metadata": {},
   "outputs": [
    {
     "data": {
      "text/plain": [
       "[('haste', 'hit'), ('haste', 'exp'), ('mastery', 'hit'), ('mastery', 'exp')]"
      ]
     },
     "execution_count": 66,
     "metadata": {},
     "output_type": "execute_result"
    }
   ],
   "source": [
    "one, two = available_reforges(back)\n",
    "combinations4 = generate_combinations(one, two)\n",
    "combinations4 = remove_bad_reforges(combinations4)\n",
    "combinations4"
   ]
  },
  {
   "cell_type": "code",
   "execution_count": 67,
   "id": "4fcbd373",
   "metadata": {},
   "outputs": [
    {
     "data": {
      "text/plain": [
       "[('haste', 'hit'), ('haste', 'exp')]"
      ]
     },
     "execution_count": 67,
     "metadata": {},
     "output_type": "execute_result"
    }
   ],
   "source": [
    "one, two = available_reforges(chest)\n",
    "combinations5 = generate_combinations(one, two)\n",
    "combinations5 = remove_bad_reforges(combinations5)\n",
    "combinations5"
   ]
  },
  {
   "cell_type": "code",
   "execution_count": 68,
   "id": "44ef96eb",
   "metadata": {},
   "outputs": [
    {
     "data": {
      "text/plain": [
       "[('exp', 'hit'), ('exp', 'haste'), ('exp', 'mastery')]"
      ]
     },
     "execution_count": 68,
     "metadata": {},
     "output_type": "execute_result"
    }
   ],
   "source": [
    "one, two = available_reforges(wrist)\n",
    "combinations6 = generate_combinations(one, two)\n",
    "combinations6 = remove_bad_reforges(combinations6)\n",
    "combinations6"
   ]
  },
  {
   "cell_type": "code",
   "execution_count": 69,
   "id": "5a3b95c5",
   "metadata": {},
   "outputs": [
    {
     "data": {
      "text/plain": [
       "[('hit', 'exp'),\n",
       " ('hit', 'crit'),\n",
       " ('hit', 'mastery'),\n",
       " ('haste', 'exp'),\n",
       " ('haste', 'crit')]"
      ]
     },
     "execution_count": 69,
     "metadata": {},
     "output_type": "execute_result"
    }
   ],
   "source": [
    "one, two = available_reforges(weapon)\n",
    "combinations7 = generate_combinations(one, two)\n",
    "combinations7 = remove_bad_reforges(combinations7)\n",
    "combinations7"
   ]
  },
  {
   "cell_type": "code",
   "execution_count": 70,
   "id": "a9917fd9",
   "metadata": {},
   "outputs": [
    {
     "data": {
      "text/plain": [
       "[('haste', 'hit'), ('haste', 'exp')]"
      ]
     },
     "execution_count": 70,
     "metadata": {},
     "output_type": "execute_result"
    }
   ],
   "source": [
    "one, two = available_reforges(hands)\n",
    "combinations8 = generate_combinations(one, two)\n",
    "combinations8 = remove_bad_reforges(combinations8)\n",
    "combinations8"
   ]
  },
  {
   "cell_type": "code",
   "execution_count": 71,
   "id": "4af6471d",
   "metadata": {},
   "outputs": [
    {
     "data": {
      "text/plain": [
       "[('hit', 'exp'), ('hit', 'haste'), ('hit', 'mastery')]"
      ]
     },
     "execution_count": 71,
     "metadata": {},
     "output_type": "execute_result"
    }
   ],
   "source": [
    "one, two = available_reforges(waist)\n",
    "combinations9 = generate_combinations(one, two)\n",
    "combinations9 = remove_bad_reforges(combinations9)\n",
    "combinations9"
   ]
  },
  {
   "cell_type": "code",
   "execution_count": 72,
   "id": "332c3267",
   "metadata": {},
   "outputs": [
    {
     "data": {
      "text/plain": [
       "[('haste', 'hit'),\n",
       " ('haste', 'exp'),\n",
       " ('haste', 'crit'),\n",
       " ('mastery', 'hit'),\n",
       " ('mastery', 'exp'),\n",
       " ('mastery', 'crit')]"
      ]
     },
     "execution_count": 72,
     "metadata": {},
     "output_type": "execute_result"
    }
   ],
   "source": [
    "one, two = available_reforges(legs)\n",
    "combinations10 = generate_combinations(one, two)\n",
    "combinations10 = remove_bad_reforges(combinations10)\n",
    "combinations10"
   ]
  },
  {
   "cell_type": "code",
   "execution_count": 73,
   "id": "f91c3366",
   "metadata": {},
   "outputs": [
    {
     "data": {
      "text/plain": [
       "[('haste', 'hit'), ('haste', 'exp')]"
      ]
     },
     "execution_count": 73,
     "metadata": {},
     "output_type": "execute_result"
    }
   ],
   "source": [
    "one, two = available_reforges(feet)\n",
    "combinations11 = generate_combinations(one, two)\n",
    "combinations11 = remove_bad_reforges(combinations11)\n",
    "combinations11"
   ]
  },
  {
   "cell_type": "code",
   "execution_count": 74,
   "id": "37e84192",
   "metadata": {},
   "outputs": [
    {
     "data": {
      "text/plain": [
       "[('exp', 'hit'),\n",
       " ('exp', 'crit'),\n",
       " ('exp', 'haste'),\n",
       " ('mastery', 'hit'),\n",
       " ('mastery', 'crit'),\n",
       " ('mastery', 'haste')]"
      ]
     },
     "execution_count": 74,
     "metadata": {},
     "output_type": "execute_result"
    }
   ],
   "source": [
    "one, two = available_reforges(finger_1)\n",
    "combinations12 = generate_combinations(one, two)\n",
    "combinations12 = remove_bad_reforges(combinations12)\n",
    "combinations12"
   ]
  },
  {
   "cell_type": "code",
   "execution_count": 75,
   "id": "66fb7a61",
   "metadata": {},
   "outputs": [
    {
     "data": {
      "text/plain": [
       "[('hit', 'exp'), ('hit', 'haste'), ('hit', 'mastery')]"
      ]
     },
     "execution_count": 75,
     "metadata": {},
     "output_type": "execute_result"
    }
   ],
   "source": [
    "one, two = available_reforges(finger_2)\n",
    "combinations13 = generate_combinations(one, two)\n",
    "combinations13 = remove_bad_reforges(combinations13)\n",
    "combinations13"
   ]
  },
  {
   "cell_type": "code",
   "execution_count": 89,
   "id": "5ef09052",
   "metadata": {},
   "outputs": [
    {
     "data": {
      "text/plain": [
       "1244160"
      ]
     },
     "execution_count": 89,
     "metadata": {},
     "output_type": "execute_result"
    }
   ],
   "source": [
    "from itertools import product\n",
    "\n",
    "combinations = list(itertools.product(combinations1, \n",
    "                                      combinations2, \n",
    "                                      combinations3, \n",
    "                                      combinations4, \n",
    "                                      combinations5, \n",
    "                                      combinations6, \n",
    "                                      combinations7,\n",
    "                                      combinations8,\n",
    "                                      combinations9, \n",
    "                                      combinations10, \n",
    "                                      combinations11,\n",
    "                                      combinations12, \n",
    "                                      combinations13))\n",
    "\n",
    "len(combinations)"
   ]
  },
  {
   "cell_type": "markdown",
   "id": "e5bd4693",
   "metadata": {},
   "source": [
    "Soooo maybe this will work. Generate all combinations and pass throuighyt all items the reforges?"
   ]
  },
  {
   "cell_type": "code",
   "execution_count": 90,
   "id": "c997acec",
   "metadata": {},
   "outputs": [
    {
     "data": {
      "text/plain": [
       "(('haste', 'hit'),\n",
       " ('haste', 'hit'),\n",
       " ('haste', 'hit'),\n",
       " ('haste', 'hit'),\n",
       " ('haste', 'hit'),\n",
       " ('exp', 'hit'),\n",
       " ('hit', 'exp'),\n",
       " ('haste', 'hit'),\n",
       " ('hit', 'exp'),\n",
       " ('haste', 'hit'),\n",
       " ('haste', 'hit'),\n",
       " ('exp', 'hit'),\n",
       " ('hit', 'exp'))"
      ]
     },
     "execution_count": 90,
     "metadata": {},
     "output_type": "execute_result"
    }
   ],
   "source": [
    "combinations[0]"
   ]
  },
  {
   "cell_type": "code",
   "execution_count": 91,
   "id": "1c6d3d95",
   "metadata": {},
   "outputs": [],
   "source": [
    "big_list = []\n",
    "def calculate():\n",
    "    for i in range(len(combinations)):\n",
    "        #print(f\"Calculation {i+1}\")\n",
    "\n",
    "        new_item = Item()\n",
    "\n",
    "        #print(head.stats)\n",
    "        #print(neck.stats)\n",
    "        #print(shoulder.stats)\n",
    "\n",
    "        head.reforge(combinations[i][0][0], combinations[i][0][1])\n",
    "        add(new_item, head)\n",
    "\n",
    "        neck.reforge(combinations[i][1][0], combinations[i][1][1])\n",
    "        add(new_item, neck)\n",
    "\n",
    "        shoulder.reforge(combinations[i][2][0], combinations[i][2][1])\n",
    "        add(new_item, shoulder)\n",
    "\n",
    "        #print('--------------------------------------------------------')\n",
    "\n",
    "        #print(head.stats)\n",
    "        #print(neck.stats)\n",
    "        #print(shoulder.stats)\n",
    "\n",
    "\n",
    "        #print('--------------------------------------------------------')\n",
    "\n",
    "        big_list.append(new_item)\n",
    "\n",
    "        #print(new_item.stats)\n",
    "\n",
    "\n",
    "        head.restore()\n",
    "        neck.restore()\n",
    "        shoulder.restore()\n",
    "\n",
    "        #print('--------------------------------------------------------')\n",
    "\n",
    "        #print(head.stats)\n",
    "        #print(neck.stats)\n",
    "        #print(shoulder.stats)  "
   ]
  },
  {
   "cell_type": "code",
   "execution_count": 92,
   "id": "3ae0b5a1",
   "metadata": {
    "scrolled": true
   },
   "outputs": [],
   "source": [
    "calculate()"
   ]
  },
  {
   "cell_type": "code",
   "execution_count": 93,
   "id": "cd903245",
   "metadata": {},
   "outputs": [
    {
     "data": {
      "text/plain": [
       "1244160"
      ]
     },
     "execution_count": 93,
     "metadata": {},
     "output_type": "execute_result"
    }
   ],
   "source": [
    "len(big_list) "
   ]
  },
  {
   "cell_type": "markdown",
   "id": "421fe573",
   "metadata": {},
   "source": [
    "### in big_list we have all the combinations that will need filtering.\n",
    "\n",
    "### Also have to implement the combintionas where no reforge is needed"
   ]
  }
 ],
 "metadata": {
  "kernelspec": {
   "display_name": "Python 3 (ipykernel)",
   "language": "python",
   "name": "python3"
  },
  "language_info": {
   "codemirror_mode": {
    "name": "ipython",
    "version": 3
   },
   "file_extension": ".py",
   "mimetype": "text/x-python",
   "name": "python",
   "nbconvert_exporter": "python",
   "pygments_lexer": "ipython3",
   "version": "3.9.13"
  }
 },
 "nbformat": 4,
 "nbformat_minor": 5
}
