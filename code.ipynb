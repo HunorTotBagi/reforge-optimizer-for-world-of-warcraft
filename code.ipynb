{
 "cells": [
  {
   "cell_type": "code",
   "execution_count": 317,
   "id": "371d43b5",
   "metadata": {},
   "outputs": [],
   "source": [
    "class Item:\n",
    "    list_of_item = []  # Class variable to store all instances of Item\n",
    "\n",
    "    def __init__(self, hit=0, exp=0, crit=0, haste=0, mastery=0):\n",
    "        self.stats = {\n",
    "            \"hit\": hit,\n",
    "            \"exp\": exp,\n",
    "            \"crit\": crit,\n",
    "            \"haste\": haste,\n",
    "            \"mastery\": mastery\n",
    "        }\n",
    "        self.reforge_from = None\n",
    "        self.reforge_to = None\n",
    "        self.amount_to_reforge = 0\n",
    "        self.reforged = False  # Track if the item has been reforged\n",
    "        self.restored = False\n",
    "        Item.list_of_item.append(self)  # Add the current instance to the class variable\n",
    "\n",
    "    def print_stats(self):\n",
    "        for stat, value in self.stats.items():\n",
    "            print(f\"{stat.capitalize()}: {value}\")\n",
    "\n",
    "    def reforge(self, reforge_from, reforge_to):\n",
    "        if self.reforged:\n",
    "            print(\"This item has already been reforged.\")\n",
    "        else:\n",
    "            if self.stats[reforge_to] > 0:\n",
    "                print(f\"You can't reforge to {reforge_to}\")\n",
    "            else:\n",
    "                self.amount_to_reforge = int(self.stats[reforge_from] * 0.4)\n",
    "                self.stats[reforge_from] -= self.amount_to_reforge\n",
    "                self.stats[reforge_to] += self.amount_to_reforge\n",
    "                self.reforge_from = reforge_from\n",
    "                self.reforge_to = reforge_to\n",
    "                self.reforged = True\n",
    "                self.restored = False  # Reset the restored flag after a reforge\n",
    "\n",
    "    def restore(self):\n",
    "        if not self.restored:\n",
    "            self.stats[self.reforge_from] += self.amount_to_reforge\n",
    "            self.stats[self.reforge_to] -= self.amount_to_reforge\n",
    "            self.restored = True\n",
    "            self.reforged = False"
   ]
  },
  {
   "cell_type": "markdown",
   "id": "b65bc8f3",
   "metadata": {},
   "source": [
    "### Methods reforge() and restore working properly."
   ]
  },
  {
   "cell_type": "code",
   "execution_count": 318,
   "id": "60353004",
   "metadata": {},
   "outputs": [],
   "source": [
    "head = Item(crit=1725, haste=1652)\n",
    "neck = Item(crit=716, haste=841)\n",
    "shoulder = Item(haste=1185, mastery=1185)"
   ]
  },
  {
   "cell_type": "code",
   "execution_count": 319,
   "id": "055c02fd",
   "metadata": {},
   "outputs": [
    {
     "name": "stdout",
     "output_type": "stream",
     "text": [
      "{'hit': 0, 'exp': 0, 'crit': 1725, 'haste': 1652, 'mastery': 0}\n"
     ]
    }
   ],
   "source": [
    "print(head.stats)"
   ]
  },
  {
   "cell_type": "code",
   "execution_count": 320,
   "id": "dd5fed90",
   "metadata": {},
   "outputs": [
    {
     "data": {
      "text/plain": [
       "{'hit': 0, 'exp': 0, 'crit': 1035, 'haste': 1652, 'mastery': 690}"
      ]
     },
     "execution_count": 320,
     "metadata": {},
     "output_type": "execute_result"
    }
   ],
   "source": [
    "head.reforge(\"crit\", \"mastery\")\n",
    "head.stats"
   ]
  },
  {
   "cell_type": "code",
   "execution_count": 321,
   "id": "b2948b96",
   "metadata": {},
   "outputs": [
    {
     "name": "stdout",
     "output_type": "stream",
     "text": [
      "This item has already been reforged.\n"
     ]
    }
   ],
   "source": [
    "head.reforge(\"crit\", \"mastery\")"
   ]
  },
  {
   "cell_type": "code",
   "execution_count": 322,
   "id": "61b6c574",
   "metadata": {},
   "outputs": [
    {
     "data": {
      "text/plain": [
       "{'hit': 0, 'exp': 0, 'crit': 1035, 'haste': 1652, 'mastery': 690}"
      ]
     },
     "execution_count": 322,
     "metadata": {},
     "output_type": "execute_result"
    }
   ],
   "source": [
    "head.stats"
   ]
  },
  {
   "cell_type": "code",
   "execution_count": 323,
   "id": "46e9f70f",
   "metadata": {},
   "outputs": [
    {
     "data": {
      "text/plain": [
       "{'hit': 0, 'exp': 0, 'crit': 1725, 'haste': 1652, 'mastery': 0}"
      ]
     },
     "execution_count": 323,
     "metadata": {},
     "output_type": "execute_result"
    }
   ],
   "source": [
    "head.restore()\n",
    "head.stats"
   ]
  },
  {
   "cell_type": "code",
   "execution_count": 324,
   "id": "6eb113c8",
   "metadata": {},
   "outputs": [
    {
     "data": {
      "text/plain": [
       "{'hit': 660, 'exp': 0, 'crit': 1725, 'haste': 992, 'mastery': 0}"
      ]
     },
     "execution_count": 324,
     "metadata": {},
     "output_type": "execute_result"
    }
   ],
   "source": [
    "head.reforge(\"haste\", \"hit\")\n",
    "head.stats"
   ]
  },
  {
   "cell_type": "code",
   "execution_count": 325,
   "id": "c1083e38",
   "metadata": {},
   "outputs": [
    {
     "name": "stdout",
     "output_type": "stream",
     "text": [
      "This item has already been reforged.\n"
     ]
    },
    {
     "data": {
      "text/plain": [
       "{'hit': 660, 'exp': 0, 'crit': 1725, 'haste': 992, 'mastery': 0}"
      ]
     },
     "execution_count": 325,
     "metadata": {},
     "output_type": "execute_result"
    }
   ],
   "source": [
    "head.reforge(\"haste\", \"hit\")\n",
    "head.stats"
   ]
  },
  {
   "cell_type": "code",
   "execution_count": 326,
   "id": "2c3afd9c",
   "metadata": {},
   "outputs": [
    {
     "name": "stdout",
     "output_type": "stream",
     "text": [
      "This item has already been reforged.\n"
     ]
    },
    {
     "data": {
      "text/plain": [
       "{'hit': 660, 'exp': 0, 'crit': 1725, 'haste': 992, 'mastery': 0}"
      ]
     },
     "execution_count": 326,
     "metadata": {},
     "output_type": "execute_result"
    }
   ],
   "source": [
    "head.reforge(\"exp\", \"mastery\")\n",
    "head.stats"
   ]
  },
  {
   "cell_type": "code",
   "execution_count": 327,
   "id": "ad1f0e37",
   "metadata": {},
   "outputs": [
    {
     "data": {
      "text/plain": [
       "{'hit': 0, 'exp': 0, 'crit': 1725, 'haste': 1652, 'mastery': 0}"
      ]
     },
     "execution_count": 327,
     "metadata": {},
     "output_type": "execute_result"
    }
   ],
   "source": [
    "head.restore()\n",
    "head.stats"
   ]
  },
  {
   "cell_type": "code",
   "execution_count": 328,
   "id": "7cb195ed",
   "metadata": {},
   "outputs": [
    {
     "data": {
      "text/plain": [
       "{'hit': 0, 'exp': 0, 'crit': 1725, 'haste': 1652, 'mastery': 0}"
      ]
     },
     "execution_count": 328,
     "metadata": {},
     "output_type": "execute_result"
    }
   ],
   "source": [
    "head.stats"
   ]
  },
  {
   "cell_type": "markdown",
   "id": "3dc59cde",
   "metadata": {},
   "source": [
    "### List of available combinations"
   ]
  },
  {
   "cell_type": "code",
   "execution_count": 329,
   "id": "27bc60c0",
   "metadata": {},
   "outputs": [
    {
     "name": "stdout",
     "output_type": "stream",
     "text": [
      "Stats with values greater than 0: ['crit', 'haste']\n",
      "Stats with values equal to 0: ['hit', 'exp', 'mastery']\n"
     ]
    }
   ],
   "source": [
    "all_stats = [\"hit\", \"exp\", \"crit\", \"haste\", \"mastery\"]\n",
    "\n",
    "greater_than_zero = []\n",
    "equal_to_zero = []\n",
    "\n",
    "for stat in all_stats:\n",
    "    if head.stats[stat] > 0:\n",
    "        greater_than_zero.append(stat)\n",
    "    else:\n",
    "        equal_to_zero.append(stat)\n",
    "\n",
    "print(\"Stats with values greater than 0:\", greater_than_zero)\n",
    "print(\"Stats with values equal to 0:\", equal_to_zero)"
   ]
  },
  {
   "cell_type": "code",
   "execution_count": 334,
   "id": "634ce82e",
   "metadata": {},
   "outputs": [
    {
     "name": "stdout",
     "output_type": "stream",
     "text": [
      "crit -> hit\n",
      "\n",
      "{'hit': 0, 'exp': 0, 'crit': 1725, 'haste': 1652, 'mastery': 0}\n",
      "{'hit': 690, 'exp': 0, 'crit': 1035, 'haste': 1652, 'mastery': 0}\n",
      "{'hit': 0, 'exp': 0, 'crit': 1725, 'haste': 1652, 'mastery': 0}\n",
      "\n",
      "crit -> exp\n",
      "\n",
      "{'hit': 0, 'exp': 0, 'crit': 1725, 'haste': 1652, 'mastery': 0}\n",
      "{'hit': 0, 'exp': 690, 'crit': 1035, 'haste': 1652, 'mastery': 0}\n",
      "{'hit': 0, 'exp': 0, 'crit': 1725, 'haste': 1652, 'mastery': 0}\n",
      "\n",
      "crit -> mastery\n",
      "\n",
      "{'hit': 0, 'exp': 0, 'crit': 1725, 'haste': 1652, 'mastery': 0}\n",
      "{'hit': 0, 'exp': 0, 'crit': 1035, 'haste': 1652, 'mastery': 690}\n",
      "{'hit': 0, 'exp': 0, 'crit': 1725, 'haste': 1652, 'mastery': 0}\n",
      "\n",
      "haste -> hit\n",
      "\n",
      "{'hit': 0, 'exp': 0, 'crit': 1725, 'haste': 1652, 'mastery': 0}\n",
      "{'hit': 660, 'exp': 0, 'crit': 1725, 'haste': 992, 'mastery': 0}\n",
      "{'hit': 0, 'exp': 0, 'crit': 1725, 'haste': 1652, 'mastery': 0}\n",
      "\n",
      "haste -> exp\n",
      "\n",
      "{'hit': 0, 'exp': 0, 'crit': 1725, 'haste': 1652, 'mastery': 0}\n",
      "{'hit': 0, 'exp': 660, 'crit': 1725, 'haste': 992, 'mastery': 0}\n",
      "{'hit': 0, 'exp': 0, 'crit': 1725, 'haste': 1652, 'mastery': 0}\n",
      "\n",
      "haste -> mastery\n",
      "\n",
      "{'hit': 0, 'exp': 0, 'crit': 1725, 'haste': 1652, 'mastery': 0}\n",
      "{'hit': 0, 'exp': 0, 'crit': 1725, 'haste': 992, 'mastery': 660}\n",
      "{'hit': 0, 'exp': 0, 'crit': 1725, 'haste': 1652, 'mastery': 0}\n",
      "\n"
     ]
    }
   ],
   "source": [
    "for reforge_from in greater_than_zero:\n",
    "    for reforge_to in equal_to_zero:\n",
    "        print(f\"{reforge_from} -> {reforge_to}\")\n",
    "        print('')\n",
    "        print(head.stats)\n",
    "        head.reforge(reforge_from, reforge_to)\n",
    "\n",
    "        print(head.stats)\n",
    "        head.restore()\n",
    "\n",
    "        print(head.stats)\n",
    "        print('')\n",
    "            "
   ]
  }
 ],
 "metadata": {
  "kernelspec": {
   "display_name": "Python 3 (ipykernel)",
   "language": "python",
   "name": "python3"
  },
  "language_info": {
   "codemirror_mode": {
    "name": "ipython",
    "version": 3
   },
   "file_extension": ".py",
   "mimetype": "text/x-python",
   "name": "python",
   "nbconvert_exporter": "python",
   "pygments_lexer": "ipython3",
   "version": "3.9.13"
  }
 },
 "nbformat": 4,
 "nbformat_minor": 5
}
