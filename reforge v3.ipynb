{
 "cells": [
  {
   "cell_type": "code",
   "execution_count": 54,
   "id": "0ca0d98a",
   "metadata": {},
   "outputs": [],
   "source": [
    "class Item:\n",
    "    # Initializing the 5 stats with 0 as defaul because one item will have two or three stats\n",
    "    def __init__(self, hit=0, exp=0, crit=0, haste=0, mastery=0):\n",
    "    \n",
    "        # Creating a dictionary where the stats will be sotred in key value pair\n",
    "        self.stats = {\n",
    "            \"hit\": hit,\n",
    "            \"exp\": exp,\n",
    "            \"crit\": crit,\n",
    "            \"haste\": haste,\n",
    "            \"mastery\": mastery\n",
    "        }"
   ]
  },
  {
   "cell_type": "code",
   "execution_count": 55,
   "id": "3a1a5f8f",
   "metadata": {},
   "outputs": [],
   "source": [
    "list_of_items = []\n",
    "every_combination = []"
   ]
  },
  {
   "cell_type": "markdown",
   "id": "7b66d6aa",
   "metadata": {},
   "source": [
    "### Defining the items"
   ]
  },
  {
   "cell_type": "code",
   "execution_count": 56,
   "id": "74c201ab",
   "metadata": {},
   "outputs": [],
   "source": [
    "summ_off_all = Item() \n",
    "\n",
    "head = Item(crit=1725, haste=1652)\n",
    "list_of_items.append(head)\n",
    "\n",
    "neck = Item(crit=716, haste=841)\n",
    "list_of_items.append(neck)\n",
    "\n",
    "shoulder = Item(haste=1185, mastery=1185)\n",
    "list_of_items.append(shoulder)"
   ]
  },
  {
   "cell_type": "markdown",
   "id": "66c86b2a",
   "metadata": {},
   "source": [
    "### Reforging"
   ]
  },
  {
   "cell_type": "code",
   "execution_count": 57,
   "id": "727c7aa4",
   "metadata": {},
   "outputs": [],
   "source": [
    "def reforge(item_slot, reforge_from, reforge_to):\n",
    "    portion = int(item_slot.stats[reforge_from] * 0.4)\n",
    "    item_slot.stats[reforge_from] -= portion\n",
    "    item_slot.stats[reforge_to] += portion\n",
    "    return item_slot"
   ]
  },
  {
   "cell_type": "markdown",
   "id": "b9178d97",
   "metadata": {},
   "source": [
    "### Adding the reforged item into a summ_off_all object"
   ]
  },
  {
   "cell_type": "code",
   "execution_count": 58,
   "id": "f6181bd5",
   "metadata": {},
   "outputs": [
    {
     "name": "stdout",
     "output_type": "stream",
     "text": [
      "{'hit': 0, 'exp': 0, 'crit': 1725, 'haste': 1652, 'mastery': 0}\n",
      "{'hit': 0, 'exp': 0, 'crit': 2441, 'haste': 2493, 'mastery': 0}\n",
      "{'hit': 0, 'exp': 0, 'crit': 2441, 'haste': 3678, 'mastery': 1185}\n"
     ]
    }
   ],
   "source": [
    "def add_up_stats(x):\n",
    "    summ_off_all.stats['hit'] += x.stats['hit']\n",
    "    summ_off_all.stats['exp'] += x.stats['exp']\n",
    "    summ_off_all.stats['crit'] += x.stats['crit']\n",
    "    summ_off_all.stats['haste'] += x.stats['haste']\n",
    "    summ_off_all.stats['mastery'] += x.stats['mastery']\n",
    "    print(summ_off_all.stats)\n",
    "\n",
    "for item in list_of_items:\n",
    "    add_up_stats(item)"
   ]
  },
  {
   "cell_type": "markdown",
   "id": "2b51d9ea",
   "metadata": {},
   "source": [
    "### Test"
   ]
  },
  {
   "cell_type": "code",
   "execution_count": 60,
   "id": "ecf5abcd",
   "metadata": {},
   "outputs": [],
   "source": [
    "all_stats = ['hit', 'exp', 'crit', 'haste', 'mastery']"
   ]
  },
  {
   "cell_type": "code",
   "execution_count": 61,
   "id": "2e47aca3",
   "metadata": {},
   "outputs": [
    {
     "data": {
      "text/plain": [
       "<__main__.Item at 0x17017ddc190>"
      ]
     },
     "execution_count": 61,
     "metadata": {},
     "output_type": "execute_result"
    }
   ],
   "source": [
    "reforge(head, 'crit', 'mastery')"
   ]
  },
  {
   "cell_type": "code",
   "execution_count": 62,
   "id": "d868593c",
   "metadata": {},
   "outputs": [
    {
     "data": {
      "text/plain": [
       "{'hit': 0, 'exp': 0, 'crit': 1035, 'haste': 1652, 'mastery': 690}"
      ]
     },
     "execution_count": 62,
     "metadata": {},
     "output_type": "execute_result"
    }
   ],
   "source": [
    "head.stats"
   ]
  },
  {
   "cell_type": "code",
   "execution_count": 64,
   "id": "1f69ff48",
   "metadata": {},
   "outputs": [
    {
     "data": {
      "text/plain": [
       "1035"
      ]
     },
     "execution_count": 64,
     "metadata": {},
     "output_type": "execute_result"
    }
   ],
   "source": [
    "head.stats[\"crit\"]"
   ]
  },
  {
   "cell_type": "code",
   "execution_count": null,
   "id": "c928cb00",
   "metadata": {},
   "outputs": [],
   "source": []
  }
 ],
 "metadata": {
  "kernelspec": {
   "display_name": "Python 3 (ipykernel)",
   "language": "python",
   "name": "python3"
  },
  "language_info": {
   "codemirror_mode": {
    "name": "ipython",
    "version": 3
   },
   "file_extension": ".py",
   "mimetype": "text/x-python",
   "name": "python",
   "nbconvert_exporter": "python",
   "pygments_lexer": "ipython3",
   "version": "3.9.13"
  }
 },
 "nbformat": 4,
 "nbformat_minor": 5
}
